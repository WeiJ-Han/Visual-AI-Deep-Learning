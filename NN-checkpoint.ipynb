{
 "cells": [
  {
   "cell_type": "code",
   "execution_count": 1,
   "id": "ac147268",
   "metadata": {
    "ExecuteTime": {
     "end_time": "2022-06-20T09:04:49.884143Z",
     "start_time": "2022-06-20T09:03:55.787404Z"
    }
   },
   "outputs": [],
   "source": [
    "from tensorflow.keras.datasets import mnist  #匯入資料集模組\n",
    "from tensorflow.keras.models import Sequential\n",
    "from tensorflow.keras.layers import Dense\n",
    "from tensorflow.keras import optimizers\n",
    "from tensorflow.keras.utils import plot_model\n",
    "from tensorflow.keras.utils import to_categorical\n",
    "import matplotlib.pyplot as plt\n",
    "import numpy as np\n",
    "%matplotlib inline"
   ]
  },
  {
   "cell_type": "markdown",
   "id": "c01e82ef",
   "metadata": {},
   "source": [
    "# 讀入資料集"
   ]
  },
  {
   "cell_type": "code",
   "execution_count": 2,
   "id": "db452744",
   "metadata": {
    "ExecuteTime": {
     "end_time": "2022-06-20T09:04:51.074645Z",
     "start_time": "2022-06-20T09:04:49.884143Z"
    }
   },
   "outputs": [],
   "source": [
    "(x_train, y_train), (x_test, y_test) = mnist.load_data()\n",
    "#y是標籤"
   ]
  },
  {
   "cell_type": "code",
   "execution_count": 3,
   "id": "9404bb7e",
   "metadata": {
    "ExecuteTime": {
     "end_time": "2022-06-20T09:04:51.090693Z",
     "start_time": "2022-06-20T09:04:51.076649Z"
    }
   },
   "outputs": [
    {
     "data": {
      "text/plain": [
       "(60000, 28, 28)"
      ]
     },
     "execution_count": 3,
     "metadata": {},
     "output_type": "execute_result"
    }
   ],
   "source": [
    "x_train.shape\n",
    "#6W張圖片，每張圖片為28X28的矩陣"
   ]
  },
  {
   "cell_type": "code",
   "execution_count": 4,
   "id": "4eeac9a5",
   "metadata": {
    "ExecuteTime": {
     "end_time": "2022-06-20T09:04:51.274623Z",
     "start_time": "2022-06-20T09:04:51.094745Z"
    }
   },
   "outputs": [
    {
     "data": {
      "text/plain": [
       "array([[  0,   0,   0,   0,   0,   0,   0,   0,   0,   0,   0,   0,   0,   0,   0,   0,   0,   0,   0,   0,   0,   0,   0,   0,   0,   0,   0,   0],\n",
       "       [  0,   0,   0,   0,   0,   0,   0,   0,   0,   0,   0,   0,   0,   0,   0,   0,   0,   0,   0,   0,   0,   0,   0,   0,   0,   0,   0,   0],\n",
       "       [  0,   0,   0,   0,   0,   0,   0,   0,   0,   0,   0,   0,   0,   0,   0,   0,   0,   0,   0,   0,   0,   0,   0,   0,   0,   0,   0,   0],\n",
       "       [  0,   0,   0,   0,   0,   0,   0,   0,   0,   0,   0,   0,   0,   0,   0,   0,   0,   0,   0,   0,   0,   0,   0,   0,   0,   0,   0,   0],\n",
       "       [  0,   0,   0,   0,   0,   0,   0,   0,   0,   0,   0,   0,   0,   0,   0,   0,   0,   0,   0,   0,   0,   0,   0,   0,   0,   0,   0,   0],\n",
       "       [  0,   0,   0,   0,   0,   0,   0,   0,   0,   0,   0,   0,   3,  18,  18,  18, 126, 136, 175,  26, 166, 255, 247, 127,   0,   0,   0,   0],\n",
       "       [  0,   0,   0,   0,   0,   0,   0,   0,  30,  36,  94, 154, 170, 253, 253, 253, 253, 253, 225, 172, 253, 242, 195,  64,   0,   0,   0,   0],\n",
       "       [  0,   0,   0,   0,   0,   0,   0,  49, 238, 253, 253, 253, 253, 253, 253, 253, 253, 251,  93,  82,  82,  56,  39,   0,   0,   0,   0,   0],\n",
       "       [  0,   0,   0,   0,   0,   0,   0,  18, 219, 253, 253, 253, 253, 253, 198, 182, 247, 241,   0,   0,   0,   0,   0,   0,   0,   0,   0,   0],\n",
       "       [  0,   0,   0,   0,   0,   0,   0,   0,  80, 156, 107, 253, 253, 205,  11,   0,  43, 154,   0,   0,   0,   0,   0,   0,   0,   0,   0,   0],\n",
       "       [  0,   0,   0,   0,   0,   0,   0,   0,   0,  14,   1, 154, 253,  90,   0,   0,   0,   0,   0,   0,   0,   0,   0,   0,   0,   0,   0,   0],\n",
       "       [  0,   0,   0,   0,   0,   0,   0,   0,   0,   0,   0, 139, 253, 190,   2,   0,   0,   0,   0,   0,   0,   0,   0,   0,   0,   0,   0,   0],\n",
       "       [  0,   0,   0,   0,   0,   0,   0,   0,   0,   0,   0,  11, 190, 253,  70,   0,   0,   0,   0,   0,   0,   0,   0,   0,   0,   0,   0,   0],\n",
       "       [  0,   0,   0,   0,   0,   0,   0,   0,   0,   0,   0,   0,  35, 241, 225, 160, 108,   1,   0,   0,   0,   0,   0,   0,   0,   0,   0,   0],\n",
       "       [  0,   0,   0,   0,   0,   0,   0,   0,   0,   0,   0,   0,   0,  81, 240, 253, 253, 119,  25,   0,   0,   0,   0,   0,   0,   0,   0,   0],\n",
       "       [  0,   0,   0,   0,   0,   0,   0,   0,   0,   0,   0,   0,   0,   0,  45, 186, 253, 253, 150,  27,   0,   0,   0,   0,   0,   0,   0,   0],\n",
       "       [  0,   0,   0,   0,   0,   0,   0,   0,   0,   0,   0,   0,   0,   0,   0,  16,  93, 252, 253, 187,   0,   0,   0,   0,   0,   0,   0,   0],\n",
       "       [  0,   0,   0,   0,   0,   0,   0,   0,   0,   0,   0,   0,   0,   0,   0,   0,   0, 249, 253, 249,  64,   0,   0,   0,   0,   0,   0,   0],\n",
       "       [  0,   0,   0,   0,   0,   0,   0,   0,   0,   0,   0,   0,   0,   0,  46, 130, 183, 253, 253, 207,   2,   0,   0,   0,   0,   0,   0,   0],\n",
       "       [  0,   0,   0,   0,   0,   0,   0,   0,   0,   0,   0,   0,  39, 148, 229, 253, 253, 253, 250, 182,   0,   0,   0,   0,   0,   0,   0,   0],\n",
       "       [  0,   0,   0,   0,   0,   0,   0,   0,   0,   0,  24, 114, 221, 253, 253, 253, 253, 201,  78,   0,   0,   0,   0,   0,   0,   0,   0,   0],\n",
       "       [  0,   0,   0,   0,   0,   0,   0,   0,  23,  66, 213, 253, 253, 253, 253, 198,  81,   2,   0,   0,   0,   0,   0,   0,   0,   0,   0,   0],\n",
       "       [  0,   0,   0,   0,   0,   0,  18, 171, 219, 253, 253, 253, 253, 195,  80,   9,   0,   0,   0,   0,   0,   0,   0,   0,   0,   0,   0,   0],\n",
       "       [  0,   0,   0,   0,  55, 172, 226, 253, 253, 253, 253, 244, 133,  11,   0,   0,   0,   0,   0,   0,   0,   0,   0,   0,   0,   0,   0,   0],\n",
       "       [  0,   0,   0,   0, 136, 253, 253, 253, 212, 135, 132,  16,   0,   0,   0,   0,   0,   0,   0,   0,   0,   0,   0,   0,   0,   0,   0,   0],\n",
       "       [  0,   0,   0,   0,   0,   0,   0,   0,   0,   0,   0,   0,   0,   0,   0,   0,   0,   0,   0,   0,   0,   0,   0,   0,   0,   0,   0,   0],\n",
       "       [  0,   0,   0,   0,   0,   0,   0,   0,   0,   0,   0,   0,   0,   0,   0,   0,   0,   0,   0,   0,   0,   0,   0,   0,   0,   0,   0,   0],\n",
       "       [  0,   0,   0,   0,   0,   0,   0,   0,   0,   0,   0,   0,   0,   0,   0,   0,   0,   0,   0,   0,   0,   0,   0,   0,   0,   0,   0,   0]], dtype=uint8)"
      ]
     },
     "execution_count": 4,
     "metadata": {},
     "output_type": "execute_result"
    }
   ],
   "source": [
    "np.set_printoptions(linewidth=np.inf) #讓列印資料不斷行\n",
    "x_train[0] #查看X_train第零筆資料\n",
    "#手寫數字5"
   ]
  },
  {
   "cell_type": "code",
   "execution_count": 5,
   "id": "84a8f54f",
   "metadata": {
    "ExecuteTime": {
     "end_time": "2022-06-20T09:04:51.321507Z",
     "start_time": "2022-06-20T09:04:51.277681Z"
    }
   },
   "outputs": [
    {
     "data": {
      "text/plain": [
       "(60000,)"
      ]
     },
     "execution_count": 5,
     "metadata": {},
     "output_type": "execute_result"
    }
   ],
   "source": [
    "y_train.shape\n",
    "#6W個元素向量(1D陣列)，也是6W筆圖片的標籤"
   ]
  },
  {
   "cell_type": "code",
   "execution_count": 6,
   "id": "f802b2a8",
   "metadata": {
    "ExecuteTime": {
     "end_time": "2022-06-20T09:04:51.432152Z",
     "start_time": "2022-06-20T09:04:51.324508Z"
    }
   },
   "outputs": [
    {
     "data": {
      "text/plain": [
       "array([5, 0, 4, 1, 9, 2, 1, 3, 1, 4, 3, 5], dtype=uint8)"
      ]
     },
     "execution_count": 6,
     "metadata": {},
     "output_type": "execute_result"
    }
   ],
   "source": [
    "y_train[0:12]\n",
    "#答案為..."
   ]
  },
  {
   "cell_type": "code",
   "execution_count": 7,
   "id": "2e1b1754",
   "metadata": {
    "ExecuteTime": {
     "end_time": "2022-06-20T09:04:55.778150Z",
     "start_time": "2022-06-20T09:04:51.436150Z"
    }
   },
   "outputs": [
    {
     "data": {
      "image/png": "[encoded data removed]",
      "text/plain": [
       "<Figure size 360x360 with 12 Axes>"
      ]
     },
     "metadata": {
      "needs_background": "light"
     },
     "output_type": "display_data"
    }
   ],
   "source": [
    "plt.figure(figsize= (5,5))\n",
    "for k in range(12):\n",
    "    plt.subplot(3,4, k+1) #讓圖片以3列4行呈現\n",
    "    plt.imshow(x_train[k], cmap = 'gray') #依序將X_train的前12筆繪製成灰底白字的灰階圖片\n",
    "plt.tight_layout() #調整圖片間距\n",
    "plt.show()"
   ]
  },
  {
   "cell_type": "markdown",
   "id": "2904ddc0",
   "metadata": {
    "ExecuteTime": {
     "end_time": "2022-06-17T14:13:05.011129Z",
     "start_time": "2022-06-17T14:12:54.573131Z"
    }
   },
   "source": [
    "# 資料預處理"
   ]
  },
  {
   "cell_type": "code",
   "execution_count": 8,
   "id": "f5e6806b",
   "metadata": {
    "ExecuteTime": {
     "end_time": "2022-06-20T09:04:55.968588Z",
     "start_time": "2022-06-20T09:04:55.781149Z"
    }
   },
   "outputs": [],
   "source": [
    "#使用numpy的reshape(),將訓練資料的形狀從(60000,28,28),(60000,784)並從unit8型別轉換成float32\n",
    "x_train = x_train.reshape(60000, 784).astype('float32') \n",
    "x_test = x_test.reshape(10000, 784).astype('float32') "
   ]
  },
  {
   "cell_type": "code",
   "execution_count": 9,
   "id": "74cabffe",
   "metadata": {
    "ExecuteTime": {
     "end_time": "2022-06-20T09:04:56.172304Z",
     "start_time": "2022-06-20T09:04:55.970593Z"
    }
   },
   "outputs": [
    {
     "data": {
      "text/plain": [
       "array([0.        , 0.        , 0.        , 0.        , 0.        , 0.        , 0.        , 0.        , 0.        , 0.        , 0.        , 0.        , 0.        , 0.        , 0.        , 0.        , 0.        , 0.        , 0.        , 0.        , 0.        , 0.        , 0.        , 0.        , 0.        , 0.        , 0.        , 0.        , 0.        , 0.        , 0.        , 0.        , 0.        , 0.        , 0.        , 0.        , 0.        , 0.        , 0.        , 0.        , 0.        , 0.        , 0.        , 0.        , 0.        , 0.        , 0.        , 0.        , 0.        , 0.        , 0.        , 0.        , 0.        , 0.        , 0.        , 0.        , 0.        , 0.        , 0.        , 0.        , 0.        , 0.        , 0.        , 0.        , 0.        , 0.        , 0.        , 0.        , 0.        , 0.        , 0.        , 0.        , 0.        , 0.        , 0.        , 0.        , 0.        , 0.        , 0.        , 0.        , 0.        , 0.        , 0.        , 0.        , 0.        , 0.        , 0.        , 0.        , 0.        , 0.        , 0.        , 0.        , 0.        , 0.        , 0.        , 0.        , 0.        , 0.        , 0.        , 0.        , 0.        , 0.        , 0.        , 0.        , 0.        , 0.        , 0.        , 0.        , 0.        , 0.        , 0.        , 0.        , 0.        , 0.        , 0.        , 0.        , 0.        , 0.        , 0.        , 0.        , 0.        , 0.        , 0.        , 0.        , 0.        , 0.        , 0.        , 0.        , 0.        , 0.        , 0.        , 0.        , 0.        , 0.        , 0.        , 0.        , 0.        , 0.        , 0.        , 0.        , 0.        , 0.        , 0.        , 0.        , 0.        , 0.        , 0.        , 0.        , 0.        , 0.        , 0.        , 0.        , 0.01176471, 0.07058824, 0.07058824, 0.07058824, 0.49411765, 0.53333336, 0.6862745 , 0.10196079, 0.6509804 , 1.        , 0.96862745, 0.49803922, 0.        , 0.        , 0.        , 0.        , 0.        , 0.        , 0.        , 0.        , 0.        , 0.        , 0.        , 0.        , 0.11764706, 0.14117648, 0.36862746, 0.6039216 , 0.6666667 , 0.99215686, 0.99215686, 0.99215686, 0.99215686, 0.99215686, 0.88235295, 0.6745098 , 0.99215686, 0.9490196 , 0.7647059 , 0.2509804 , 0.        , 0.        , 0.        , 0.        , 0.        , 0.        , 0.        , 0.        , 0.        , 0.        , 0.        , 0.19215687, 0.93333334, 0.99215686, 0.99215686, 0.99215686, 0.99215686, 0.99215686, 0.99215686, 0.99215686, 0.99215686, 0.9843137 , 0.3647059 , 0.32156864, 0.32156864, 0.21960784, 0.15294118, 0.        , 0.        , 0.        , 0.        , 0.        , 0.        , 0.        , 0.        , 0.        , 0.        , 0.        , 0.        , 0.07058824, 0.85882354, 0.99215686, 0.99215686, 0.99215686, 0.99215686, 0.99215686, 0.7764706 , 0.7137255 , 0.96862745, 0.94509804, 0.        , 0.        , 0.        , 0.        , 0.        , 0.        , 0.        , 0.        , 0.        , 0.        , 0.        , 0.        , 0.        , 0.        , 0.        , 0.        , 0.        , 0.        , 0.3137255 , 0.6117647 , 0.41960785, 0.99215686, 0.99215686, 0.8039216 , 0.04313726, 0.        , 0.16862746, 0.6039216 , 0.        , 0.        , 0.        , 0.        , 0.        , 0.        , 0.        , 0.        , 0.        , 0.        , 0.        , 0.        , 0.        , 0.        , 0.        , 0.        , 0.        , 0.        , 0.        , 0.05490196, 0.00392157, 0.6039216 , 0.99215686, 0.3529412 , 0.        , 0.        , 0.        , 0.        , 0.        , 0.        , 0.        , 0.        , 0.        , 0.        , 0.        , 0.        , 0.        , 0.        , 0.        , 0.        , 0.        , 0.        , 0.        , 0.        , 0.        , 0.        , 0.        , 0.        , 0.        , 0.54509807, 0.99215686, 0.74509805, 0.00784314, 0.        , 0.        , 0.        , 0.        , 0.        , 0.        , 0.        , 0.        , 0.        , 0.        , 0.        , 0.        , 0.        , 0.        , 0.        , 0.        , 0.        , 0.        , 0.        , 0.        , 0.        , 0.        , 0.        , 0.        , 0.04313726, 0.74509805, 0.99215686, 0.27450982, 0.        , 0.        , 0.        , 0.        , 0.        , 0.        , 0.        , 0.        , 0.        , 0.        , 0.        , 0.        , 0.        , 0.        , 0.        , 0.        , 0.        , 0.        , 0.        , 0.        , 0.        , 0.        , 0.        , 0.        , 0.        , 0.13725491, 0.94509804, 0.88235295, 0.627451  , 0.42352942, 0.00392157, 0.        , 0.        , 0.        , 0.        , 0.        , 0.        , 0.        , 0.        , 0.        , 0.        , 0.        , 0.        , 0.        , 0.        , 0.        , 0.        , 0.        , 0.        , 0.        , 0.        , 0.        , 0.        , 0.        , 0.31764707, 0.9411765 , 0.99215686, 0.99215686, 0.46666667, 0.09803922, 0.        , 0.        , 0.        , 0.        , 0.        , 0.        , 0.        , 0.        , 0.        , 0.        , 0.        , 0.        , 0.        , 0.        , 0.        , 0.        , 0.        , 0.        , 0.        , 0.        , 0.        , 0.        , 0.        , 0.1764706 , 0.7294118 , 0.99215686, 0.99215686, 0.5882353 , 0.10588235, 0.        , 0.        , 0.        , 0.        , 0.        , 0.        , 0.        , 0.        , 0.        , 0.        , 0.        , 0.        , 0.        , 0.        , 0.        , 0.        , 0.        , 0.        , 0.        , 0.        , 0.        , 0.        , 0.        , 0.0627451 , 0.3647059 , 0.9882353 , 0.99215686, 0.73333335, 0.        , 0.        , 0.        , 0.        , 0.        , 0.        , 0.        , 0.        , 0.        , 0.        , 0.        , 0.        , 0.        , 0.        , 0.        , 0.        , 0.        , 0.        , 0.        , 0.        , 0.        , 0.        , 0.        , 0.        , 0.        , 0.9764706 , 0.99215686, 0.9764706 , 0.2509804 , 0.        , 0.        , 0.        , 0.        , 0.        , 0.        , 0.        , 0.        , 0.        , 0.        , 0.        , 0.        , 0.        , 0.        , 0.        , 0.        , 0.        , 0.        , 0.        , 0.        , 0.        , 0.18039216, 0.50980395, 0.7176471 , 0.99215686, 0.99215686, 0.8117647 , 0.00784314, 0.        , 0.        , 0.        , 0.        , 0.        , 0.        , 0.        , 0.        , 0.        , 0.        , 0.        , 0.        , 0.        , 0.        , 0.        , 0.        , 0.        , 0.        , 0.        , 0.15294118, 0.5803922 , 0.8980392 , 0.99215686, 0.99215686, 0.99215686, 0.98039216, 0.7137255 , 0.        , 0.        , 0.        , 0.        , 0.        , 0.        , 0.        , 0.        , 0.        , 0.        , 0.        , 0.        , 0.        , 0.        , 0.        , 0.        , 0.        , 0.        , 0.09411765, 0.44705883, 0.8666667 , 0.99215686, 0.99215686, 0.99215686, 0.99215686, 0.7882353 , 0.30588236, 0.        , 0.        , 0.        , 0.        , 0.        , 0.        , 0.        , 0.        , 0.        , 0.        , 0.        , 0.        , 0.        , 0.        , 0.        , 0.        , 0.        , 0.09019608, 0.25882354, 0.8352941 , 0.99215686, 0.99215686, 0.99215686, 0.99215686, 0.7764706 , 0.31764707, 0.00784314, 0.        , 0.        , 0.        , 0.        , 0.        , 0.        , 0.        , 0.        , 0.        , 0.        , 0.        , 0.        , 0.        , 0.        , 0.        , 0.        , 0.07058824, 0.67058825, 0.85882354, 0.99215686, 0.99215686, 0.99215686, 0.99215686, 0.7647059 , 0.3137255 , 0.03529412, 0.        , 0.        , 0.        , 0.        , 0.        , 0.        , 0.        , 0.        , 0.        , 0.        , 0.        , 0.        , 0.        , 0.        , 0.        , 0.        , 0.21568628, 0.6745098 , 0.8862745 , 0.99215686, 0.99215686, 0.99215686, 0.99215686, 0.95686275, 0.52156866, 0.04313726, 0.        , 0.        , 0.        , 0.        , 0.        , 0.        , 0.        , 0.        , 0.        , 0.        , 0.        , 0.        , 0.        , 0.        , 0.        , 0.        , 0.        , 0.        , 0.53333336, 0.99215686, 0.99215686, 0.99215686, 0.83137256, 0.5294118 , 0.5176471 , 0.0627451 , 0.        , 0.        , 0.        , 0.        , 0.        , 0.        , 0.        , 0.        , 0.        , 0.        , 0.        , 0.        , 0.        , 0.        , 0.        , 0.        , 0.        , 0.        , 0.        , 0.        , 0.        , 0.        , 0.        , 0.        , 0.        , 0.        , 0.        , 0.        , 0.        , 0.        , 0.        , 0.        , 0.        , 0.        , 0.        , 0.        , 0.        , 0.        , 0.        , 0.        , 0.        , 0.        , 0.        , 0.        , 0.        , 0.        , 0.        , 0.        , 0.        , 0.        , 0.        , 0.        , 0.        , 0.        , 0.        , 0.        , 0.        , 0.        , 0.        , 0.        , 0.        , 0.        , 0.        , 0.        , 0.        , 0.        , 0.        , 0.        , 0.        , 0.        , 0.        , 0.        , 0.        , 0.        , 0.        , 0.        , 0.        , 0.        , 0.        , 0.        , 0.        , 0.        , 0.        , 0.        , 0.        , 0.        , 0.        , 0.        , 0.        , 0.        , 0.        , 0.        , 0.        , 0.        , 0.        , 0.        , 0.        , 0.        , 0.        , 0.        ], dtype=float32)"
      ]
     },
     "execution_count": 9,
     "metadata": {},
     "output_type": "execute_result"
    }
   ],
   "source": [
    "#Normalization\n",
    "x_train /= 255\n",
    "x_test /= 255\n",
    "x_train[0]"
   ]
  },
  {
   "cell_type": "code",
   "execution_count": 10,
   "id": "813a99a6",
   "metadata": {
    "ExecuteTime": {
     "end_time": "2022-06-20T09:04:56.205059Z",
     "start_time": "2022-06-20T09:04:56.182072Z"
    }
   },
   "outputs": [
    {
     "data": {
      "text/plain": [
       "array([0., 0., 0., 0., 0., 1., 0., 0., 0., 0.], dtype=float32)"
      ]
     },
     "execution_count": 10,
     "metadata": {},
     "output_type": "execute_result"
    }
   ],
   "source": [
    "#one-hot編碼\n",
    "n_classes = 10 #代表0-9的數字\n",
    "y_train = to_categorical(y_train, n_classes)\n",
    "y_test = to_categorical(y_test, n_classes)\n",
    "y_train[0]"
   ]
  },
  {
   "cell_type": "markdown",
   "id": "c095aaa9",
   "metadata": {},
   "source": [
    "# 簡單神經網路"
   ]
  },
  {
   "cell_type": "code",
   "execution_count": 11,
   "id": "0851084d",
   "metadata": {
    "ExecuteTime": {
     "end_time": "2022-06-20T09:05:00.354727Z",
     "start_time": "2022-06-20T09:04:56.212368Z"
    }
   },
   "outputs": [],
   "source": [
    "#建立模型\n",
    "model = Sequential() #利用sequentail序列類別建立空model物件\n",
    "#使用add()建構神經層、Dense()密集層、activation激活函數、輸出層為28x28=784\n",
    "model.add(Dense(64, activation='sigmoid', input_shape=(784,)))\n",
    "#add()設定輸出層、10個神經元\n",
    "model.add(Dense(10, activation= \"softmax\"))\n",
    "#softmax值為0-1且總合為1"
   ]
  },
  {
   "cell_type": "code",
   "execution_count": 12,
   "id": "b9163602",
   "metadata": {
    "ExecuteTime": {
     "end_time": "2022-06-20T09:05:00.433247Z",
     "start_time": "2022-06-20T09:05:00.354727Z"
    }
   },
   "outputs": [],
   "source": [
    "# 編譯模型\n",
    "model.compile(loss='mean_squared_error',  # 損失函數\n",
    "              optimizer=optimizers.SGD(learning_rate=0.01),  # 優化器\n",
    "              metrics=['accuracy'])  # 評量準則"
   ]
  },
  {
   "cell_type": "code",
   "execution_count": 13,
   "id": "80be13e1",
   "metadata": {
    "ExecuteTime": {
     "end_time": "2022-06-20T09:12:10.840235Z",
     "start_time": "2022-06-20T09:05:00.437253Z"
    }
   },
   "outputs": [
    {
     "name": "stdout",
     "output_type": "stream",
     "text": [
      "Epoch 1/200\n",
      "469/469 [==============================] - 5s 5ms/step - loss: 0.0937 - accuracy: 0.1089 - val_loss: 0.0924 - val_accuracy: 0.1176\n",
      "Epoch 2/200\n",
      "469/469 [==============================] - 2s 5ms/step - loss: 0.0917 - accuracy: 0.1190 - val_loss: 0.0912 - val_accuracy: 0.1281\n",
      "Epoch 3/200\n",
      "469/469 [==============================] - 2s 4ms/step - loss: 0.0908 - accuracy: 0.1350 - val_loss: 0.0905 - val_accuracy: 0.1505\n",
      "Epoch 4/200\n",
      "469/469 [==============================] - 2s 4ms/step - loss: 0.0902 - accuracy: 0.1599 - val_loss: 0.0900 - val_accuracy: 0.1733\n",
      "Epoch 5/200\n",
      "469/469 [==============================] - 2s 5ms/step - loss: 0.0898 - accuracy: 0.1819 - val_loss: 0.0896 - val_accuracy: 0.1895\n",
      "Epoch 6/200\n",
      "469/469 [==============================] - 2s 4ms/step - loss: 0.0894 - accuracy: 0.1977 - val_loss: 0.0892 - val_accuracy: 0.2001\n",
      "Epoch 7/200\n",
      "469/469 [==============================] - 2s 5ms/step - loss: 0.0890 - accuracy: 0.2104 - val_loss: 0.0889 - val_accuracy: 0.2111\n",
      "Epoch 8/200\n",
      "469/469 [==============================] - 2s 5ms/step - loss: 0.0887 - accuracy: 0.2222 - val_loss: 0.0885 - val_accuracy: 0.2237\n",
      "Epoch 9/200\n",
      "469/469 [==============================] - 2s 4ms/step - loss: 0.0884 - accuracy: 0.2342 - val_loss: 0.0882 - val_accuracy: 0.2373\n",
      "Epoch 10/200\n",
      "469/469 [==============================] - 2s 5ms/step - loss: 0.0881 - accuracy: 0.2494 - val_loss: 0.0879 - val_accuracy: 0.2523\n",
      "Epoch 11/200\n",
      "469/469 [==============================] - 2s 5ms/step - loss: 0.0878 - accuracy: 0.2679 - val_loss: 0.0876 - val_accuracy: 0.2715\n",
      "Epoch 12/200\n",
      "469/469 [==============================] - 2s 4ms/step - loss: 0.0875 - accuracy: 0.2889 - val_loss: 0.0873 - val_accuracy: 0.2951\n",
      "Epoch 13/200\n",
      "469/469 [==============================] - 2s 4ms/step - loss: 0.0872 - accuracy: 0.3133 - val_loss: 0.0870 - val_accuracy: 0.3218\n",
      "Epoch 14/200\n",
      "469/469 [==============================] - 2s 4ms/step - loss: 0.0869 - accuracy: 0.3413 - val_loss: 0.0867 - val_accuracy: 0.3539\n",
      "Epoch 15/200\n",
      "469/469 [==============================] - 2s 4ms/step - loss: 0.0865 - accuracy: 0.3748 - val_loss: 0.0864 - val_accuracy: 0.3944\n",
      "Epoch 16/200\n",
      "469/469 [==============================] - 2s 5ms/step - loss: 0.0862 - accuracy: 0.4128 - val_loss: 0.0861 - val_accuracy: 0.4260\n",
      "Epoch 17/200\n",
      "469/469 [==============================] - 2s 4ms/step - loss: 0.0859 - accuracy: 0.4375 - val_loss: 0.0857 - val_accuracy: 0.4464\n",
      "Epoch 18/200\n",
      "469/469 [==============================] - 2s 5ms/step - loss: 0.0856 - accuracy: 0.4514 - val_loss: 0.0854 - val_accuracy: 0.4532\n",
      "Epoch 19/200\n",
      "469/469 [==============================] - 2s 5ms/step - loss: 0.0852 - accuracy: 0.4579 - val_loss: 0.0851 - val_accuracy: 0.4613\n",
      "Epoch 20/200\n",
      "469/469 [==============================] - 2s 5ms/step - loss: 0.0849 - accuracy: 0.4645 - val_loss: 0.0847 - val_accuracy: 0.4639\n",
      "Epoch 21/200\n",
      "469/469 [==============================] - 2s 5ms/step - loss: 0.0846 - accuracy: 0.4668 - val_loss: 0.0844 - val_accuracy: 0.4670\n",
      "Epoch 22/200\n",
      "469/469 [==============================] - 2s 4ms/step - loss: 0.0842 - accuracy: 0.4693 - val_loss: 0.0840 - val_accuracy: 0.4676\n",
      "Epoch 23/200\n",
      "469/469 [==============================] - 2s 4ms/step - loss: 0.0838 - accuracy: 0.4703 - val_loss: 0.0836 - val_accuracy: 0.4666\n",
      "Epoch 24/200\n",
      "469/469 [==============================] - 2s 4ms/step - loss: 0.0835 - accuracy: 0.4691 - val_loss: 0.0832 - val_accuracy: 0.4685\n",
      "Epoch 25/200\n",
      "469/469 [==============================] - 2s 5ms/step - loss: 0.0831 - accuracy: 0.4701 - val_loss: 0.0829 - val_accuracy: 0.4698\n",
      "Epoch 26/200\n",
      "469/469 [==============================] - 2s 4ms/step - loss: 0.0827 - accuracy: 0.4699 - val_loss: 0.0825 - val_accuracy: 0.4688\n",
      "Epoch 27/200\n",
      "469/469 [==============================] - 2s 5ms/step - loss: 0.0823 - accuracy: 0.4701 - val_loss: 0.0821 - val_accuracy: 0.4676\n",
      "Epoch 28/200\n",
      "469/469 [==============================] - 2s 5ms/step - loss: 0.0819 - accuracy: 0.4712 - val_loss: 0.0816 - val_accuracy: 0.4672\n",
      "Epoch 29/200\n",
      "469/469 [==============================] - 2s 5ms/step - loss: 0.0815 - accuracy: 0.4724 - val_loss: 0.0812 - val_accuracy: 0.4686\n",
      "Epoch 30/200\n",
      "469/469 [==============================] - 2s 5ms/step - loss: 0.0810 - accuracy: 0.4739 - val_loss: 0.0808 - val_accuracy: 0.4716\n",
      "Epoch 31/200\n",
      "469/469 [==============================] - 2s 4ms/step - loss: 0.0806 - accuracy: 0.4760 - val_loss: 0.0804 - val_accuracy: 0.4748\n",
      "Epoch 32/200\n",
      "469/469 [==============================] - 2s 5ms/step - loss: 0.0802 - accuracy: 0.4789 - val_loss: 0.0799 - val_accuracy: 0.4776\n",
      "Epoch 33/200\n",
      "469/469 [==============================] - 2s 5ms/step - loss: 0.0797 - accuracy: 0.4814 - val_loss: 0.0795 - val_accuracy: 0.4804\n",
      "Epoch 34/200\n",
      "469/469 [==============================] - 2s 5ms/step - loss: 0.0793 - accuracy: 0.4841 - val_loss: 0.0790 - val_accuracy: 0.4847\n",
      "Epoch 35/200\n",
      "469/469 [==============================] - 2s 5ms/step - loss: 0.0789 - accuracy: 0.4877 - val_loss: 0.0786 - val_accuracy: 0.4889\n",
      "Epoch 36/200\n",
      "469/469 [==============================] - 2s 5ms/step - loss: 0.0784 - accuracy: 0.4918 - val_loss: 0.0781 - val_accuracy: 0.4914\n",
      "Epoch 37/200\n",
      "469/469 [==============================] - 2s 5ms/step - loss: 0.0779 - accuracy: 0.4956 - val_loss: 0.0776 - val_accuracy: 0.4943\n",
      "Epoch 38/200\n",
      "469/469 [==============================] - 2s 4ms/step - loss: 0.0775 - accuracy: 0.4991 - val_loss: 0.0772 - val_accuracy: 0.4979\n",
      "Epoch 39/200\n",
      "469/469 [==============================] - 2s 5ms/step - loss: 0.0770 - accuracy: 0.5037 - val_loss: 0.0767 - val_accuracy: 0.5030\n",
      "Epoch 40/200\n",
      "469/469 [==============================] - 2s 4ms/step - loss: 0.0765 - accuracy: 0.5086 - val_loss: 0.0762 - val_accuracy: 0.5068\n",
      "Epoch 41/200\n",
      "469/469 [==============================] - 2s 4ms/step - loss: 0.0761 - accuracy: 0.5124 - val_loss: 0.0757 - val_accuracy: 0.5101\n",
      "Epoch 42/200\n",
      "469/469 [==============================] - 2s 5ms/step - loss: 0.0756 - accuracy: 0.5165 - val_loss: 0.0752 - val_accuracy: 0.5147\n",
      "Epoch 43/200\n",
      "469/469 [==============================] - 2s 5ms/step - loss: 0.0751 - accuracy: 0.5209 - val_loss: 0.0747 - val_accuracy: 0.5192\n",
      "Epoch 44/200\n",
      "469/469 [==============================] - 2s 5ms/step - loss: 0.0746 - accuracy: 0.5262 - val_loss: 0.0743 - val_accuracy: 0.5243\n",
      "Epoch 45/200\n",
      "469/469 [==============================] - 2s 5ms/step - loss: 0.0741 - accuracy: 0.5293 - val_loss: 0.0738 - val_accuracy: 0.5281\n",
      "Epoch 46/200\n",
      "469/469 [==============================] - 2s 5ms/step - loss: 0.0736 - accuracy: 0.5341 - val_loss: 0.0733 - val_accuracy: 0.5322\n",
      "Epoch 47/200\n",
      "469/469 [==============================] - 2s 4ms/step - loss: 0.0731 - accuracy: 0.5379 - val_loss: 0.0728 - val_accuracy: 0.5377\n",
      "Epoch 48/200\n",
      "469/469 [==============================] - 2s 5ms/step - loss: 0.0727 - accuracy: 0.5430 - val_loss: 0.0723 - val_accuracy: 0.5432\n",
      "Epoch 49/200\n",
      "469/469 [==============================] - 2s 4ms/step - loss: 0.0722 - accuracy: 0.5465 - val_loss: 0.0718 - val_accuracy: 0.5473\n",
      "Epoch 50/200\n",
      "469/469 [==============================] - 2s 5ms/step - loss: 0.0717 - accuracy: 0.5512 - val_loss: 0.0713 - val_accuracy: 0.5507\n",
      "Epoch 51/200\n",
      "469/469 [==============================] - 2s 5ms/step - loss: 0.0712 - accuracy: 0.5550 - val_loss: 0.0708 - val_accuracy: 0.5549\n",
      "Epoch 52/200\n",
      "469/469 [==============================] - 2s 5ms/step - loss: 0.0707 - accuracy: 0.5587 - val_loss: 0.0703 - val_accuracy: 0.5582\n",
      "Epoch 53/200\n",
      "469/469 [==============================] - 2s 4ms/step - loss: 0.0702 - accuracy: 0.5633 - val_loss: 0.0698 - val_accuracy: 0.5622\n",
      "Epoch 54/200\n",
      "469/469 [==============================] - 2s 5ms/step - loss: 0.0697 - accuracy: 0.5667 - val_loss: 0.0693 - val_accuracy: 0.5660\n",
      "Epoch 55/200\n",
      "469/469 [==============================] - 2s 5ms/step - loss: 0.0692 - accuracy: 0.5709 - val_loss: 0.0688 - val_accuracy: 0.5704\n",
      "Epoch 56/200\n",
      "469/469 [==============================] - 2s 5ms/step - loss: 0.0687 - accuracy: 0.5749 - val_loss: 0.0683 - val_accuracy: 0.5740\n",
      "Epoch 57/200\n",
      "469/469 [==============================] - 2s 5ms/step - loss: 0.0682 - accuracy: 0.5775 - val_loss: 0.0678 - val_accuracy: 0.5782\n"
     ]
    },
    {
     "name": "stdout",
     "output_type": "stream",
     "text": [
      "Epoch 58/200\n",
      "469/469 [==============================] - 2s 5ms/step - loss: 0.0677 - accuracy: 0.5804 - val_loss: 0.0673 - val_accuracy: 0.5808\n",
      "Epoch 59/200\n",
      "469/469 [==============================] - 2s 4ms/step - loss: 0.0672 - accuracy: 0.5837 - val_loss: 0.0668 - val_accuracy: 0.5842\n",
      "Epoch 60/200\n",
      "469/469 [==============================] - 2s 4ms/step - loss: 0.0667 - accuracy: 0.5866 - val_loss: 0.0663 - val_accuracy: 0.5874\n",
      "Epoch 61/200\n",
      "469/469 [==============================] - 2s 4ms/step - loss: 0.0662 - accuracy: 0.5898 - val_loss: 0.0658 - val_accuracy: 0.5906\n",
      "Epoch 62/200\n",
      "469/469 [==============================] - 2s 4ms/step - loss: 0.0658 - accuracy: 0.5925 - val_loss: 0.0653 - val_accuracy: 0.5929\n",
      "Epoch 63/200\n",
      "469/469 [==============================] - 2s 4ms/step - loss: 0.0653 - accuracy: 0.5952 - val_loss: 0.0648 - val_accuracy: 0.5954\n",
      "Epoch 64/200\n",
      "469/469 [==============================] - 2s 4ms/step - loss: 0.0648 - accuracy: 0.5981 - val_loss: 0.0643 - val_accuracy: 0.5978\n",
      "Epoch 65/200\n",
      "469/469 [==============================] - 2s 4ms/step - loss: 0.0643 - accuracy: 0.6010 - val_loss: 0.0638 - val_accuracy: 0.6005\n",
      "Epoch 66/200\n",
      "469/469 [==============================] - 2s 4ms/step - loss: 0.0638 - accuracy: 0.6034 - val_loss: 0.0633 - val_accuracy: 0.6047\n",
      "Epoch 67/200\n",
      "469/469 [==============================] - 2s 4ms/step - loss: 0.0634 - accuracy: 0.6057 - val_loss: 0.0628 - val_accuracy: 0.6069\n",
      "Epoch 68/200\n",
      "469/469 [==============================] - 2s 4ms/step - loss: 0.0629 - accuracy: 0.6081 - val_loss: 0.0624 - val_accuracy: 0.6107\n",
      "Epoch 69/200\n",
      "469/469 [==============================] - 2s 4ms/step - loss: 0.0624 - accuracy: 0.6103 - val_loss: 0.0619 - val_accuracy: 0.6132\n",
      "Epoch 70/200\n",
      "469/469 [==============================] - 2s 5ms/step - loss: 0.0620 - accuracy: 0.6123 - val_loss: 0.0614 - val_accuracy: 0.6155\n",
      "Epoch 71/200\n",
      "469/469 [==============================] - 2s 5ms/step - loss: 0.0615 - accuracy: 0.6146 - val_loss: 0.0609 - val_accuracy: 0.6177\n",
      "Epoch 72/200\n",
      "469/469 [==============================] - 2s 4ms/step - loss: 0.0610 - accuracy: 0.6163 - val_loss: 0.0605 - val_accuracy: 0.6204\n",
      "Epoch 73/200\n",
      "469/469 [==============================] - 2s 4ms/step - loss: 0.0606 - accuracy: 0.6184 - val_loss: 0.0600 - val_accuracy: 0.6227\n",
      "Epoch 74/200\n",
      "469/469 [==============================] - 2s 4ms/step - loss: 0.0601 - accuracy: 0.6208 - val_loss: 0.0596 - val_accuracy: 0.6244\n",
      "Epoch 75/200\n",
      "469/469 [==============================] - 2s 5ms/step - loss: 0.0597 - accuracy: 0.6232 - val_loss: 0.0591 - val_accuracy: 0.6270\n",
      "Epoch 76/200\n",
      "469/469 [==============================] - 2s 5ms/step - loss: 0.0592 - accuracy: 0.6256 - val_loss: 0.0587 - val_accuracy: 0.6300\n",
      "Epoch 77/200\n",
      "469/469 [==============================] - 2s 5ms/step - loss: 0.0588 - accuracy: 0.6283 - val_loss: 0.0582 - val_accuracy: 0.6317\n",
      "Epoch 78/200\n",
      "469/469 [==============================] - 2s 5ms/step - loss: 0.0584 - accuracy: 0.6306 - val_loss: 0.0578 - val_accuracy: 0.6344\n",
      "Epoch 79/200\n",
      "469/469 [==============================] - 2s 4ms/step - loss: 0.0579 - accuracy: 0.6332 - val_loss: 0.0573 - val_accuracy: 0.6364\n",
      "Epoch 80/200\n",
      "469/469 [==============================] - 2s 4ms/step - loss: 0.0575 - accuracy: 0.6356 - val_loss: 0.0569 - val_accuracy: 0.6382\n",
      "Epoch 81/200\n",
      "469/469 [==============================] - 2s 5ms/step - loss: 0.0571 - accuracy: 0.6375 - val_loss: 0.0565 - val_accuracy: 0.6406\n",
      "Epoch 82/200\n",
      "469/469 [==============================] - 2s 4ms/step - loss: 0.0567 - accuracy: 0.6407 - val_loss: 0.0561 - val_accuracy: 0.6428\n",
      "Epoch 83/200\n",
      "469/469 [==============================] - 2s 5ms/step - loss: 0.0562 - accuracy: 0.6434 - val_loss: 0.0556 - val_accuracy: 0.6461\n",
      "Epoch 84/200\n",
      "469/469 [==============================] - 2s 5ms/step - loss: 0.0558 - accuracy: 0.6463 - val_loss: 0.0552 - val_accuracy: 0.6487\n",
      "Epoch 85/200\n",
      "469/469 [==============================] - 2s 5ms/step - loss: 0.0554 - accuracy: 0.6495 - val_loss: 0.0548 - val_accuracy: 0.6523\n",
      "Epoch 86/200\n",
      "469/469 [==============================] - 2s 5ms/step - loss: 0.0550 - accuracy: 0.6526 - val_loss: 0.0544 - val_accuracy: 0.6548\n",
      "Epoch 87/200\n",
      "469/469 [==============================] - 2s 5ms/step - loss: 0.0546 - accuracy: 0.6560 - val_loss: 0.0540 - val_accuracy: 0.6593\n",
      "Epoch 88/200\n",
      "469/469 [==============================] - 2s 4ms/step - loss: 0.0542 - accuracy: 0.6594 - val_loss: 0.0536 - val_accuracy: 0.6630\n",
      "Epoch 89/200\n",
      "469/469 [==============================] - 2s 5ms/step - loss: 0.0538 - accuracy: 0.6628 - val_loss: 0.0532 - val_accuracy: 0.6669\n",
      "Epoch 90/200\n",
      "469/469 [==============================] - 2s 5ms/step - loss: 0.0535 - accuracy: 0.6662 - val_loss: 0.0528 - val_accuracy: 0.6698\n",
      "Epoch 91/200\n",
      "469/469 [==============================] - 2s 5ms/step - loss: 0.0531 - accuracy: 0.6696 - val_loss: 0.0524 - val_accuracy: 0.6741\n",
      "Epoch 92/200\n",
      "469/469 [==============================] - 2s 5ms/step - loss: 0.0527 - accuracy: 0.6725 - val_loss: 0.0520 - val_accuracy: 0.6774\n",
      "Epoch 93/200\n",
      "469/469 [==============================] - 2s 5ms/step - loss: 0.0523 - accuracy: 0.6753 - val_loss: 0.0517 - val_accuracy: 0.6803\n",
      "Epoch 94/200\n",
      "469/469 [==============================] - 2s 4ms/step - loss: 0.0520 - accuracy: 0.6791 - val_loss: 0.0513 - val_accuracy: 0.6838\n",
      "Epoch 95/200\n",
      "469/469 [==============================] - 2s 4ms/step - loss: 0.0516 - accuracy: 0.6826 - val_loss: 0.0509 - val_accuracy: 0.6872\n",
      "Epoch 96/200\n",
      "469/469 [==============================] - 2s 4ms/step - loss: 0.0512 - accuracy: 0.6866 - val_loss: 0.0506 - val_accuracy: 0.6916\n",
      "Epoch 97/200\n",
      "469/469 [==============================] - 2s 5ms/step - loss: 0.0509 - accuracy: 0.6899 - val_loss: 0.0502 - val_accuracy: 0.6950\n",
      "Epoch 98/200\n",
      "469/469 [==============================] - 2s 4ms/step - loss: 0.0505 - accuracy: 0.6932 - val_loss: 0.0498 - val_accuracy: 0.6986\n",
      "Epoch 99/200\n",
      "469/469 [==============================] - 2s 4ms/step - loss: 0.0502 - accuracy: 0.6967 - val_loss: 0.0495 - val_accuracy: 0.7034\n",
      "Epoch 100/200\n",
      "469/469 [==============================] - 2s 5ms/step - loss: 0.0498 - accuracy: 0.7003 - val_loss: 0.0491 - val_accuracy: 0.7083\n",
      "Epoch 101/200\n",
      "469/469 [==============================] - 2s 5ms/step - loss: 0.0495 - accuracy: 0.7039 - val_loss: 0.0488 - val_accuracy: 0.7123\n",
      "Epoch 102/200\n",
      "469/469 [==============================] - 2s 5ms/step - loss: 0.0492 - accuracy: 0.7079 - val_loss: 0.0485 - val_accuracy: 0.7150\n",
      "Epoch 103/200\n",
      "469/469 [==============================] - 2s 5ms/step - loss: 0.0488 - accuracy: 0.7115 - val_loss: 0.0481 - val_accuracy: 0.7181\n",
      "Epoch 104/200\n",
      "469/469 [==============================] - 2s 4ms/step - loss: 0.0485 - accuracy: 0.7150 - val_loss: 0.0478 - val_accuracy: 0.7214\n",
      "Epoch 105/200\n",
      "469/469 [==============================] - 2s 4ms/step - loss: 0.0482 - accuracy: 0.7185 - val_loss: 0.0474 - val_accuracy: 0.7241\n",
      "Epoch 106/200\n",
      "469/469 [==============================] - 2s 5ms/step - loss: 0.0478 - accuracy: 0.7221 - val_loss: 0.0471 - val_accuracy: 0.7278\n",
      "Epoch 107/200\n",
      "469/469 [==============================] - 2s 4ms/step - loss: 0.0475 - accuracy: 0.7250 - val_loss: 0.0468 - val_accuracy: 0.7315\n",
      "Epoch 108/200\n",
      "469/469 [==============================] - 2s 5ms/step - loss: 0.0472 - accuracy: 0.7282 - val_loss: 0.0465 - val_accuracy: 0.7360\n",
      "Epoch 109/200\n",
      "469/469 [==============================] - 2s 5ms/step - loss: 0.0469 - accuracy: 0.7319 - val_loss: 0.0462 - val_accuracy: 0.7398\n",
      "Epoch 110/200\n",
      "469/469 [==============================] - 2s 5ms/step - loss: 0.0466 - accuracy: 0.7355 - val_loss: 0.0458 - val_accuracy: 0.7438\n",
      "Epoch 111/200\n",
      "469/469 [==============================] - 2s 5ms/step - loss: 0.0463 - accuracy: 0.7384 - val_loss: 0.0455 - val_accuracy: 0.7471\n",
      "Epoch 112/200\n",
      "469/469 [==============================] - 2s 5ms/step - loss: 0.0460 - accuracy: 0.7416 - val_loss: 0.0452 - val_accuracy: 0.7508\n",
      "Epoch 113/200\n",
      "469/469 [==============================] - 2s 5ms/step - loss: 0.0457 - accuracy: 0.7449 - val_loss: 0.0449 - val_accuracy: 0.7549\n",
      "Epoch 114/200\n",
      "469/469 [==============================] - 2s 4ms/step - loss: 0.0454 - accuracy: 0.7478 - val_loss: 0.0446 - val_accuracy: 0.7598\n"
     ]
    },
    {
     "name": "stdout",
     "output_type": "stream",
     "text": [
      "Epoch 115/200\n",
      "469/469 [==============================] - 2s 4ms/step - loss: 0.0451 - accuracy: 0.7511 - val_loss: 0.0443 - val_accuracy: 0.7628\n",
      "Epoch 116/200\n",
      "469/469 [==============================] - 2s 4ms/step - loss: 0.0448 - accuracy: 0.7540 - val_loss: 0.0440 - val_accuracy: 0.7668\n",
      "Epoch 117/200\n",
      "469/469 [==============================] - 2s 4ms/step - loss: 0.0445 - accuracy: 0.7567 - val_loss: 0.0437 - val_accuracy: 0.7703\n",
      "Epoch 118/200\n",
      "469/469 [==============================] - 2s 5ms/step - loss: 0.0442 - accuracy: 0.7596 - val_loss: 0.0434 - val_accuracy: 0.7732\n",
      "Epoch 119/200\n",
      "469/469 [==============================] - 2s 4ms/step - loss: 0.0439 - accuracy: 0.7620 - val_loss: 0.0431 - val_accuracy: 0.7767\n",
      "Epoch 120/200\n",
      "469/469 [==============================] - 2s 4ms/step - loss: 0.0436 - accuracy: 0.7642 - val_loss: 0.0429 - val_accuracy: 0.7786\n",
      "Epoch 121/200\n",
      "469/469 [==============================] - 2s 4ms/step - loss: 0.0434 - accuracy: 0.7666 - val_loss: 0.0426 - val_accuracy: 0.7814\n",
      "Epoch 122/200\n",
      "469/469 [==============================] - 2s 4ms/step - loss: 0.0431 - accuracy: 0.7692 - val_loss: 0.0423 - val_accuracy: 0.7845\n",
      "Epoch 123/200\n",
      "469/469 [==============================] - 2s 4ms/step - loss: 0.0428 - accuracy: 0.7713 - val_loss: 0.0420 - val_accuracy: 0.7866\n",
      "Epoch 124/200\n",
      "469/469 [==============================] - 2s 4ms/step - loss: 0.0425 - accuracy: 0.7735 - val_loss: 0.0418 - val_accuracy: 0.7889\n",
      "Epoch 125/200\n",
      "469/469 [==============================] - 2s 5ms/step - loss: 0.0423 - accuracy: 0.7761 - val_loss: 0.0415 - val_accuracy: 0.7908\n",
      "Epoch 126/200\n",
      "469/469 [==============================] - 2s 5ms/step - loss: 0.0420 - accuracy: 0.7782 - val_loss: 0.0412 - val_accuracy: 0.7927\n",
      "Epoch 127/200\n",
      "469/469 [==============================] - 2s 5ms/step - loss: 0.0418 - accuracy: 0.7808 - val_loss: 0.0410 - val_accuracy: 0.7944\n",
      "Epoch 128/200\n",
      "469/469 [==============================] - 2s 5ms/step - loss: 0.0415 - accuracy: 0.7828 - val_loss: 0.0407 - val_accuracy: 0.7968\n",
      "Epoch 129/200\n",
      "469/469 [==============================] - 2s 4ms/step - loss: 0.0412 - accuracy: 0.7855 - val_loss: 0.0404 - val_accuracy: 0.7989\n",
      "Epoch 130/200\n",
      "469/469 [==============================] - 2s 4ms/step - loss: 0.0410 - accuracy: 0.7873 - val_loss: 0.0402 - val_accuracy: 0.8007\n",
      "Epoch 131/200\n",
      "469/469 [==============================] - 2s 4ms/step - loss: 0.0407 - accuracy: 0.7898 - val_loss: 0.0399 - val_accuracy: 0.8024\n",
      "Epoch 132/200\n",
      "469/469 [==============================] - 2s 5ms/step - loss: 0.0405 - accuracy: 0.7915 - val_loss: 0.0397 - val_accuracy: 0.8046\n",
      "Epoch 133/200\n",
      "469/469 [==============================] - 2s 5ms/step - loss: 0.0402 - accuracy: 0.7937 - val_loss: 0.0394 - val_accuracy: 0.8067\n",
      "Epoch 134/200\n",
      "469/469 [==============================] - 2s 5ms/step - loss: 0.0400 - accuracy: 0.7959 - val_loss: 0.0392 - val_accuracy: 0.8084\n",
      "Epoch 135/200\n",
      "469/469 [==============================] - 2s 4ms/step - loss: 0.0398 - accuracy: 0.7982 - val_loss: 0.0389 - val_accuracy: 0.8113\n",
      "Epoch 136/200\n",
      "469/469 [==============================] - 2s 4ms/step - loss: 0.0395 - accuracy: 0.8000 - val_loss: 0.0387 - val_accuracy: 0.8131\n",
      "Epoch 137/200\n",
      "469/469 [==============================] - 2s 4ms/step - loss: 0.0393 - accuracy: 0.8018 - val_loss: 0.0385 - val_accuracy: 0.8142\n",
      "Epoch 138/200\n",
      "469/469 [==============================] - 2s 5ms/step - loss: 0.0391 - accuracy: 0.8035 - val_loss: 0.0382 - val_accuracy: 0.8159\n",
      "Epoch 139/200\n",
      "469/469 [==============================] - 2s 4ms/step - loss: 0.0388 - accuracy: 0.8053 - val_loss: 0.0380 - val_accuracy: 0.8174\n",
      "Epoch 140/200\n",
      "469/469 [==============================] - 2s 4ms/step - loss: 0.0386 - accuracy: 0.8070 - val_loss: 0.0378 - val_accuracy: 0.8185\n",
      "Epoch 141/200\n",
      "469/469 [==============================] - 2s 4ms/step - loss: 0.0384 - accuracy: 0.8086 - val_loss: 0.0375 - val_accuracy: 0.8196\n",
      "Epoch 142/200\n",
      "469/469 [==============================] - 2s 4ms/step - loss: 0.0382 - accuracy: 0.8106 - val_loss: 0.0373 - val_accuracy: 0.8204\n",
      "Epoch 143/200\n",
      "469/469 [==============================] - 2s 4ms/step - loss: 0.0379 - accuracy: 0.8120 - val_loss: 0.0371 - val_accuracy: 0.8231\n",
      "Epoch 144/200\n",
      "469/469 [==============================] - 2s 4ms/step - loss: 0.0377 - accuracy: 0.8135 - val_loss: 0.0369 - val_accuracy: 0.8238\n",
      "Epoch 145/200\n",
      "469/469 [==============================] - 2s 4ms/step - loss: 0.0375 - accuracy: 0.8148 - val_loss: 0.0367 - val_accuracy: 0.8250\n",
      "Epoch 146/200\n",
      "469/469 [==============================] - 2s 4ms/step - loss: 0.0373 - accuracy: 0.8162 - val_loss: 0.0364 - val_accuracy: 0.8257\n",
      "Epoch 147/200\n",
      "469/469 [==============================] - 2s 4ms/step - loss: 0.0371 - accuracy: 0.8176 - val_loss: 0.0362 - val_accuracy: 0.8270\n",
      "Epoch 148/200\n",
      "469/469 [==============================] - 2s 4ms/step - loss: 0.0369 - accuracy: 0.8190 - val_loss: 0.0360 - val_accuracy: 0.8280\n",
      "Epoch 149/200\n",
      "469/469 [==============================] - 2s 4ms/step - loss: 0.0367 - accuracy: 0.8205 - val_loss: 0.0358 - val_accuracy: 0.8284\n",
      "Epoch 150/200\n",
      "469/469 [==============================] - 2s 4ms/step - loss: 0.0365 - accuracy: 0.8216 - val_loss: 0.0356 - val_accuracy: 0.8305\n",
      "Epoch 151/200\n",
      "469/469 [==============================] - 2s 4ms/step - loss: 0.0363 - accuracy: 0.8227 - val_loss: 0.0354 - val_accuracy: 0.8317\n",
      "Epoch 152/200\n",
      "469/469 [==============================] - 2s 4ms/step - loss: 0.0361 - accuracy: 0.8236 - val_loss: 0.0352 - val_accuracy: 0.8323\n",
      "Epoch 153/200\n",
      "469/469 [==============================] - 2s 4ms/step - loss: 0.0359 - accuracy: 0.8248 - val_loss: 0.0350 - val_accuracy: 0.8333\n",
      "Epoch 154/200\n",
      "469/469 [==============================] - 2s 4ms/step - loss: 0.0357 - accuracy: 0.8256 - val_loss: 0.0348 - val_accuracy: 0.8341\n",
      "Epoch 155/200\n",
      "469/469 [==============================] - 2s 4ms/step - loss: 0.0355 - accuracy: 0.8267 - val_loss: 0.0346 - val_accuracy: 0.8348\n",
      "Epoch 156/200\n",
      "469/469 [==============================] - 2s 4ms/step - loss: 0.0353 - accuracy: 0.8276 - val_loss: 0.0344 - val_accuracy: 0.8356\n",
      "Epoch 157/200\n",
      "469/469 [==============================] - 2s 4ms/step - loss: 0.0351 - accuracy: 0.8282 - val_loss: 0.0342 - val_accuracy: 0.8365\n",
      "Epoch 158/200\n",
      "469/469 [==============================] - 2s 4ms/step - loss: 0.0349 - accuracy: 0.8292 - val_loss: 0.0340 - val_accuracy: 0.8374\n",
      "Epoch 159/200\n",
      "469/469 [==============================] - 2s 4ms/step - loss: 0.0347 - accuracy: 0.8302 - val_loss: 0.0339 - val_accuracy: 0.8379\n",
      "Epoch 160/200\n",
      "469/469 [==============================] - 2s 4ms/step - loss: 0.0346 - accuracy: 0.8309 - val_loss: 0.0337 - val_accuracy: 0.8381\n",
      "Epoch 161/200\n",
      "469/469 [==============================] - 2s 4ms/step - loss: 0.0344 - accuracy: 0.8316 - val_loss: 0.0335 - val_accuracy: 0.8393\n",
      "Epoch 162/200\n",
      "469/469 [==============================] - 2s 4ms/step - loss: 0.0342 - accuracy: 0.8324 - val_loss: 0.0333 - val_accuracy: 0.8399\n",
      "Epoch 163/200\n",
      "469/469 [==============================] - 2s 4ms/step - loss: 0.0340 - accuracy: 0.8331 - val_loss: 0.0331 - val_accuracy: 0.8406\n",
      "Epoch 164/200\n",
      "469/469 [==============================] - 2s 4ms/step - loss: 0.0339 - accuracy: 0.8340 - val_loss: 0.0330 - val_accuracy: 0.8416\n",
      "Epoch 165/200\n",
      "469/469 [==============================] - 2s 5ms/step - loss: 0.0337 - accuracy: 0.8349 - val_loss: 0.0328 - val_accuracy: 0.8423\n",
      "Epoch 166/200\n",
      "469/469 [==============================] - 2s 4ms/step - loss: 0.0335 - accuracy: 0.8356 - val_loss: 0.0326 - val_accuracy: 0.8430\n",
      "Epoch 167/200\n",
      "469/469 [==============================] - 2s 4ms/step - loss: 0.0333 - accuracy: 0.8360 - val_loss: 0.0324 - val_accuracy: 0.8444\n",
      "Epoch 168/200\n",
      "469/469 [==============================] - 2s 5ms/step - loss: 0.0332 - accuracy: 0.8366 - val_loss: 0.0323 - val_accuracy: 0.8450\n",
      "Epoch 169/200\n",
      "469/469 [==============================] - 2s 5ms/step - loss: 0.0330 - accuracy: 0.8372 - val_loss: 0.0321 - val_accuracy: 0.8456\n",
      "Epoch 170/200\n",
      "469/469 [==============================] - 2s 5ms/step - loss: 0.0329 - accuracy: 0.8380 - val_loss: 0.0319 - val_accuracy: 0.8459\n",
      "Epoch 171/200\n"
     ]
    },
    {
     "name": "stdout",
     "output_type": "stream",
     "text": [
      "469/469 [==============================] - 2s 4ms/step - loss: 0.0327 - accuracy: 0.8385 - val_loss: 0.0318 - val_accuracy: 0.8469\n",
      "Epoch 172/200\n",
      "469/469 [==============================] - 2s 4ms/step - loss: 0.0325 - accuracy: 0.8392 - val_loss: 0.0316 - val_accuracy: 0.8476\n",
      "Epoch 173/200\n",
      "469/469 [==============================] - 2s 4ms/step - loss: 0.0324 - accuracy: 0.8397 - val_loss: 0.0315 - val_accuracy: 0.8485\n",
      "Epoch 174/200\n",
      "469/469 [==============================] - 2s 4ms/step - loss: 0.0322 - accuracy: 0.8404 - val_loss: 0.0313 - val_accuracy: 0.8487\n",
      "Epoch 175/200\n",
      "469/469 [==============================] - 2s 5ms/step - loss: 0.0321 - accuracy: 0.8411 - val_loss: 0.0312 - val_accuracy: 0.8495\n",
      "Epoch 176/200\n",
      "469/469 [==============================] - 2s 5ms/step - loss: 0.0319 - accuracy: 0.8416 - val_loss: 0.0310 - val_accuracy: 0.8500\n",
      "Epoch 177/200\n",
      "469/469 [==============================] - 2s 4ms/step - loss: 0.0318 - accuracy: 0.8422 - val_loss: 0.0309 - val_accuracy: 0.8509\n",
      "Epoch 178/200\n",
      "469/469 [==============================] - 2s 5ms/step - loss: 0.0316 - accuracy: 0.8431 - val_loss: 0.0307 - val_accuracy: 0.8520\n",
      "Epoch 179/200\n",
      "469/469 [==============================] - 2s 4ms/step - loss: 0.0315 - accuracy: 0.8437 - val_loss: 0.0306 - val_accuracy: 0.8526\n",
      "Epoch 180/200\n",
      "469/469 [==============================] - 2s 4ms/step - loss: 0.0313 - accuracy: 0.8442 - val_loss: 0.0304 - val_accuracy: 0.8525\n",
      "Epoch 181/200\n",
      "469/469 [==============================] - 2s 4ms/step - loss: 0.0312 - accuracy: 0.8449 - val_loss: 0.0303 - val_accuracy: 0.8534\n",
      "Epoch 182/200\n",
      "469/469 [==============================] - 2s 4ms/step - loss: 0.0311 - accuracy: 0.8454 - val_loss: 0.0301 - val_accuracy: 0.8546\n",
      "Epoch 183/200\n",
      "469/469 [==============================] - 2s 4ms/step - loss: 0.0309 - accuracy: 0.8462 - val_loss: 0.0300 - val_accuracy: 0.8551\n",
      "Epoch 184/200\n",
      "469/469 [==============================] - 2s 4ms/step - loss: 0.0308 - accuracy: 0.8468 - val_loss: 0.0299 - val_accuracy: 0.8555\n",
      "Epoch 185/200\n",
      "469/469 [==============================] - 2s 4ms/step - loss: 0.0306 - accuracy: 0.8475 - val_loss: 0.0297 - val_accuracy: 0.8560\n",
      "Epoch 186/200\n",
      "469/469 [==============================] - 2s 5ms/step - loss: 0.0305 - accuracy: 0.8479 - val_loss: 0.0296 - val_accuracy: 0.8568\n",
      "Epoch 187/200\n",
      "469/469 [==============================] - 2s 4ms/step - loss: 0.0304 - accuracy: 0.8483 - val_loss: 0.0295 - val_accuracy: 0.8577\n",
      "Epoch 188/200\n",
      "469/469 [==============================] - 2s 4ms/step - loss: 0.0302 - accuracy: 0.8488 - val_loss: 0.0293 - val_accuracy: 0.8584\n",
      "Epoch 189/200\n",
      "469/469 [==============================] - 2s 5ms/step - loss: 0.0301 - accuracy: 0.8494 - val_loss: 0.0292 - val_accuracy: 0.8589\n",
      "Epoch 190/200\n",
      "469/469 [==============================] - 2s 5ms/step - loss: 0.0300 - accuracy: 0.8498 - val_loss: 0.0291 - val_accuracy: 0.8593\n",
      "Epoch 191/200\n",
      "469/469 [==============================] - 2s 5ms/step - loss: 0.0299 - accuracy: 0.8504 - val_loss: 0.0289 - val_accuracy: 0.8595\n",
      "Epoch 192/200\n",
      "469/469 [==============================] - 2s 4ms/step - loss: 0.0297 - accuracy: 0.8510 - val_loss: 0.0288 - val_accuracy: 0.8599\n",
      "Epoch 193/200\n",
      "469/469 [==============================] - 2s 4ms/step - loss: 0.0296 - accuracy: 0.8513 - val_loss: 0.0287 - val_accuracy: 0.8605\n",
      "Epoch 194/200\n",
      "469/469 [==============================] - 2s 4ms/step - loss: 0.0295 - accuracy: 0.8519 - val_loss: 0.0286 - val_accuracy: 0.8609\n",
      "Epoch 195/200\n",
      "469/469 [==============================] - 2s 4ms/step - loss: 0.0294 - accuracy: 0.8523 - val_loss: 0.0284 - val_accuracy: 0.8622\n",
      "Epoch 196/200\n",
      "469/469 [==============================] - 2s 5ms/step - loss: 0.0293 - accuracy: 0.8527 - val_loss: 0.0283 - val_accuracy: 0.8624\n",
      "Epoch 197/200\n",
      "469/469 [==============================] - 2s 4ms/step - loss: 0.0291 - accuracy: 0.8534 - val_loss: 0.0282 - val_accuracy: 0.8624\n",
      "Epoch 198/200\n",
      "469/469 [==============================] - 2s 4ms/step - loss: 0.0290 - accuracy: 0.8537 - val_loss: 0.0281 - val_accuracy: 0.8627\n",
      "Epoch 199/200\n",
      "469/469 [==============================] - 2s 4ms/step - loss: 0.0289 - accuracy: 0.8542 - val_loss: 0.0280 - val_accuracy: 0.8632\n",
      "Epoch 200/200\n",
      "469/469 [==============================] - 2s 5ms/step - loss: 0.0288 - accuracy: 0.8546 - val_loss: 0.0279 - val_accuracy: 0.8634\n"
     ]
    },
    {
     "data": {
      "text/plain": [
       "<keras.callbacks.History at 0x17e5ae4acd0>"
      ]
     },
     "execution_count": 13,
     "metadata": {},
     "output_type": "execute_result"
    }
   ],
   "source": [
    "#訓練神經網路\n",
    "model.fit(x_train, y_train, batch_size=128, epochs=200, verbose=1,\n",
    "          validation_data=(x_test,y_test))\n",
    "#fit()讀入準備好的x_train及 y_train\n",
    "#batch_size批次訓練、epochs訓練週期\n",
    "#verbose=1完整顯示、0安靜模式、2精簡模式\n",
    " #validation_data驗證"
   ]
  },
  {
   "cell_type": "markdown",
   "id": "09c7bdd3",
   "metadata": {},
   "source": [
    "# 多層神經網路"
   ]
  },
  {
   "cell_type": "code",
   "execution_count": 14,
   "id": "d34f1db5",
   "metadata": {
    "ExecuteTime": {
     "end_time": "2022-06-20T09:12:10.998494Z",
     "start_time": "2022-06-20T09:12:10.844236Z"
    }
   },
   "outputs": [
    {
     "name": "stdout",
     "output_type": "stream",
     "text": [
      "Model: \"sequential_1\"\n",
      "_________________________________________________________________\n",
      " Layer (type)                Output Shape              Param #   \n",
      "=================================================================\n",
      " dense_2 (Dense)             (None, 64)                50240     \n",
      "                                                                 \n",
      " dense_3 (Dense)             (None, 64)                4160      \n",
      "                                                                 \n",
      " dense_4 (Dense)             (None, 10)                650       \n",
      "                                                                 \n",
      "=================================================================\n",
      "Total params: 55,050\n",
      "Trainable params: 55,050\n",
      "Non-trainable params: 0\n",
      "_________________________________________________________________\n"
     ]
    }
   ],
   "source": [
    "#模型架構\n",
    "model = Sequential()\n",
    "model.add(Dense(64, activation='relu', input_shape=(784,)))\n",
    "model.add(Dense(64, activation='relu')) #第2隱藏層\n",
    "model.add(Dense(10, activation='softmax'))\n",
    "model.summary()"
   ]
  },
  {
   "cell_type": "code",
   "execution_count": 15,
   "id": "91887142",
   "metadata": {
    "ExecuteTime": {
     "end_time": "2022-06-20T09:12:11.029758Z",
     "start_time": "2022-06-20T09:12:11.003491Z"
    }
   },
   "outputs": [],
   "source": [
    "#模型編譯\n",
    "model.compile(loss='categorical_crossentropy', #損失函數設為交叉火商損失函數\n",
    "              optimizer= optimizers.SGD(learning_rate=0.01),\n",
    "              metrics = ['accuracy'])"
   ]
  },
  {
   "cell_type": "code",
   "execution_count": 16,
   "id": "dc4ff716",
   "metadata": {
    "ExecuteTime": {
     "end_time": "2022-06-20T09:12:56.073765Z",
     "start_time": "2022-06-20T09:12:11.035756Z"
    }
   },
   "outputs": [
    {
     "name": "stdout",
     "output_type": "stream",
     "text": [
      "Epoch 1/20\n",
      "469/469 [==============================] - 3s 5ms/step - loss: 1.3863 - accuracy: 0.6283 - val_loss: 0.6635 - val_accuracy: 0.8400\n",
      "Epoch 2/20\n",
      "469/469 [==============================] - 2s 5ms/step - loss: 0.5311 - accuracy: 0.8643 - val_loss: 0.4201 - val_accuracy: 0.8860\n",
      "Epoch 3/20\n",
      "469/469 [==============================] - 2s 5ms/step - loss: 0.4023 - accuracy: 0.8883 - val_loss: 0.3575 - val_accuracy: 0.8975\n",
      "Epoch 4/20\n",
      "469/469 [==============================] - 2s 4ms/step - loss: 0.3541 - accuracy: 0.8999 - val_loss: 0.3227 - val_accuracy: 0.9066\n",
      "Epoch 5/20\n",
      "469/469 [==============================] - 2s 5ms/step - loss: 0.3261 - accuracy: 0.9067 - val_loss: 0.2995 - val_accuracy: 0.9138\n",
      "Epoch 6/20\n",
      "469/469 [==============================] - 2s 5ms/step - loss: 0.3060 - accuracy: 0.9128 - val_loss: 0.2856 - val_accuracy: 0.9191\n",
      "Epoch 7/20\n",
      "469/469 [==============================] - 2s 5ms/step - loss: 0.2899 - accuracy: 0.9168 - val_loss: 0.2736 - val_accuracy: 0.9215\n",
      "Epoch 8/20\n",
      "469/469 [==============================] - 2s 5ms/step - loss: 0.2768 - accuracy: 0.9202 - val_loss: 0.2608 - val_accuracy: 0.9262\n",
      "Epoch 9/20\n",
      "469/469 [==============================] - 2s 5ms/step - loss: 0.2650 - accuracy: 0.9238 - val_loss: 0.2538 - val_accuracy: 0.9273\n",
      "Epoch 10/20\n",
      "469/469 [==============================] - 2s 5ms/step - loss: 0.2549 - accuracy: 0.9267 - val_loss: 0.2451 - val_accuracy: 0.9297\n",
      "Epoch 11/20\n",
      "469/469 [==============================] - 2s 5ms/step - loss: 0.2454 - accuracy: 0.9300 - val_loss: 0.2354 - val_accuracy: 0.9323\n",
      "Epoch 12/20\n",
      "469/469 [==============================] - 2s 5ms/step - loss: 0.2371 - accuracy: 0.9330 - val_loss: 0.2298 - val_accuracy: 0.9328\n",
      "Epoch 13/20\n",
      "469/469 [==============================] - 2s 5ms/step - loss: 0.2292 - accuracy: 0.9351 - val_loss: 0.2210 - val_accuracy: 0.9353\n",
      "Epoch 14/20\n",
      "469/469 [==============================] - 2s 5ms/step - loss: 0.2220 - accuracy: 0.9372 - val_loss: 0.2150 - val_accuracy: 0.9383\n",
      "Epoch 15/20\n",
      "469/469 [==============================] - 2s 5ms/step - loss: 0.2151 - accuracy: 0.9391 - val_loss: 0.2113 - val_accuracy: 0.9371\n",
      "Epoch 16/20\n",
      "469/469 [==============================] - 2s 5ms/step - loss: 0.2091 - accuracy: 0.9404 - val_loss: 0.2028 - val_accuracy: 0.9409\n",
      "Epoch 17/20\n",
      "469/469 [==============================] - 2s 5ms/step - loss: 0.2028 - accuracy: 0.9421 - val_loss: 0.1992 - val_accuracy: 0.9420\n",
      "Epoch 18/20\n",
      "469/469 [==============================] - 2s 5ms/step - loss: 0.1973 - accuracy: 0.9437 - val_loss: 0.1938 - val_accuracy: 0.9434\n",
      "Epoch 19/20\n",
      "469/469 [==============================] - 2s 5ms/step - loss: 0.1919 - accuracy: 0.9448 - val_loss: 0.1883 - val_accuracy: 0.9444\n",
      "Epoch 20/20\n",
      "469/469 [==============================] - 2s 5ms/step - loss: 0.1869 - accuracy: 0.9464 - val_loss: 0.1831 - val_accuracy: 0.9469\n"
     ]
    },
    {
     "data": {
      "text/plain": [
       "<keras.callbacks.History at 0x17e6a85c5e0>"
      ]
     },
     "execution_count": 16,
     "metadata": {},
     "output_type": "execute_result"
    }
   ],
   "source": [
    "#訓練NN\n",
    "model.fit(x_train, y_train,\n",
    "         batch_size=128, epochs=20, #模型複雜，週期可下降\n",
    "         verbose=1,\n",
    "         validation_data=(x_test,y_test))\n",
    "#val_loss驗證資料的損失值須下降趨勢否則overfit"
   ]
  },
  {
   "cell_type": "markdown",
   "id": "667ada08",
   "metadata": {},
   "source": [
    "# 權重初始化"
   ]
  },
  {
   "cell_type": "code",
   "execution_count": 17,
   "id": "aa22d97d",
   "metadata": {
    "ExecuteTime": {
     "end_time": "2022-06-20T09:12:56.799498Z",
     "start_time": "2022-06-20T09:12:56.076763Z"
    }
   },
   "outputs": [
    {
     "name": "stdout",
     "output_type": "stream",
     "text": [
      "1/1 [==============================] - 0s 141ms/step\n"
     ]
    },
    {
     "data": {
      "image/png": "[encoded data removed]",
      "text/plain": [
       "<Figure size 432x288 with 1 Axes>"
      ]
     },
     "metadata": {
      "needs_background": "light"
     },
     "output_type": "display_data"
    }
   ],
   "source": [
    "from tensorflow.keras.initializers import Zeros, RandomNormal, glorot_normal, glorot_uniform\n",
    "from tensorflow.keras.layers import Dense, Activation\n",
    "n_input = 784  # 神經元數量\n",
    "n_dense = 256  # 神經元的密集層數量\n",
    "# 設定權重的初始值\n",
    "b_init = Zeros()  # 用 Zeros() method將密集層的偏值(b)都設為0\n",
    "w_init = RandomNormal(stddev=1.0)  # 設標準差為1，從標準常態分佈取樣來初始化權重\n",
    "# 建構神經網絡\n",
    "model = Sequential()\n",
    "model.add(Dense(n_dense,  # 256個神經元\n",
    "                input_dim=n_input,  # 此密集層接收784個輸入值\n",
    "                kernel_initializer=w_init,  # 設權重初始值，w_init代表從標準常態分布中取樣\n",
    "                bias_initializer=b_init))  # 偏值初始值設為b_init\n",
    "model.add(Activation('sigmoid'))\n",
    "# 產生輸入資料，並算出密集層256個神經元的激活值\n",
    "x = np.random.random((1, n_input))\n",
    "a = model. predict(x)  # 激活值a就是激活函數的輸出值\n",
    "# 畫圖查看各激活值的分布\n",
    "_ = plt.hist(np.transpose(a))\n",
    "# 以標準常態分布取樣還是有機率產生離0較遠的值，進而得到極端z值"
   ]
  },
  {
   "cell_type": "code",
   "execution_count": 18,
   "id": "1a9a6d3e",
   "metadata": {
    "ExecuteTime": {
     "end_time": "2022-06-20T09:12:57.257132Z",
     "start_time": "2022-06-20T09:12:56.803498Z"
    }
   },
   "outputs": [
    {
     "name": "stdout",
     "output_type": "stream",
     "text": [
      "1/1 [==============================] - 0s 67ms/step\n"
     ]
    },
    {
     "data": {
      "image/png": "[encoded data removed]",
      "text/plain": [
       "<Figure size 432x288 with 1 Axes>"
      ]
     },
     "metadata": {
      "needs_background": "light"
     },
     "output_type": "display_data"
    }
   ],
   "source": [
    "#Glorot分布\n",
    "w_init = glorot_normal()\n",
    "# 建構神經網絡\n",
    "model = Sequential()\n",
    "model.add(Dense(n_dense,  # 256個神經元\n",
    "                input_dim=n_input,  # 此密集層接收784個輸入值\n",
    "                kernel_initializer=w_init,  # 設權重初始值，w_init代表從標準常態分布中取樣\n",
    "                bias_initializer=b_init))  # 偏值初始值設為b_init\n",
    "model.add(Activation('sigmoid'))\n",
    "# 產生輸入資料，並算出密集層256個神經元的激活值\n",
    "x = np.random.random((1, n_input))\n",
    "a = model. predict(x)  # 激活值a就是激活函數的輸出值\n",
    "# 畫圖查看各激活值的分布\n",
    "_ = plt.hist(np.transpose(a))"
   ]
  },
  {
   "cell_type": "code",
   "execution_count": 19,
   "id": "99290709",
   "metadata": {
    "ExecuteTime": {
     "end_time": "2022-06-20T09:12:57.740585Z",
     "start_time": "2022-06-20T09:12:57.261695Z"
    }
   },
   "outputs": [
    {
     "name": "stdout",
     "output_type": "stream",
     "text": [
      "1/1 [==============================] - 0s 65ms/step\n"
     ]
    },
    {
     "data": {
      "image/png": "[encoded data removed]",
      "text/plain": [
       "<Figure size 432x288 with 1 Axes>"
      ]
     },
     "metadata": {
      "needs_background": "light"
     },
     "output_type": "display_data"
    }
   ],
   "source": [
    "#Glorot均勻分布\n",
    "w_init = glorot_uniform\n",
    "# 建構神經網絡\n",
    "model = Sequential()\n",
    "model.add(Dense(n_dense,  # 256個神經元\n",
    "                input_dim=n_input,  # 此密集層接收784個輸入值\n",
    "                kernel_initializer=w_init,  # 設權重初始值，w_init代表從標準常態分布中取樣\n",
    "                bias_initializer=b_init))  # 偏值初始值設為b_init\n",
    "model.add(Activation('sigmoid'))\n",
    "# 產生輸入資料，並算出密集層256個神經元的激活值\n",
    "x = np.random.random((1, n_input))\n",
    "a = model. predict(x)  # 激活值a就是激活函數的輸出值\n",
    "# 畫圖查看各激活值的分布\n",
    "_ = plt.hist(np.transpose(a))"
   ]
  },
  {
   "cell_type": "code",
   "execution_count": 20,
   "id": "cf253c76",
   "metadata": {
    "ExecuteTime": {
     "end_time": "2022-06-20T09:12:58.244678Z",
     "start_time": "2022-06-20T09:12:57.744585Z"
    }
   },
   "outputs": [
    {
     "name": "stdout",
     "output_type": "stream",
     "text": [
      "1/1 [==============================] - 0s 90ms/step\n"
     ]
    },
    {
     "data": {
      "image/png": "[encoded data removed]",
      "text/plain": [
       "<Figure size 432x288 with 1 Axes>"
      ]
     },
     "metadata": {
      "needs_background": "light"
     },
     "output_type": "display_data"
    }
   ],
   "source": [
    "#搭配其他激活函數\n",
    "model = Sequential()\n",
    "model.add(Dense(n_dense,  # 256個神經元\n",
    "                input_dim=n_input,  # 此密集層接收784個輸入值\n",
    "                kernel_initializer=w_init,  # 設權重初始值，w_init代表從標準常態分布中取樣\n",
    "                bias_initializer=b_init))  # 偏值初始值設為b_init\n",
    "#model.add(Activation('sigmoid'))\n",
    "model.add(Activation('tanh'))\n",
    "#model.add(Activation('relu'))\n",
    "x = np.random.random((1, n_input))\n",
    "a = model. predict(x)  # 激活值a就是激活函數的輸出值\n",
    "# 畫圖查看各激活值的分布\n",
    "_ = plt.hist(np.transpose(a))\n",
    "#www.tensorflow.org/api_docs/python/tf/keras/initializers"
   ]
  },
  {
   "cell_type": "markdown",
   "id": "b8c51ec7",
   "metadata": {},
   "source": [
    "# 深度神經網路"
   ]
  },
  {
   "cell_type": "code",
   "execution_count": 21,
   "id": "745cb127",
   "metadata": {
    "ExecuteTime": {
     "end_time": "2022-06-20T09:12:58.261669Z",
     "start_time": "2022-06-20T09:12:58.248675Z"
    }
   },
   "outputs": [],
   "source": [
    "from tensorflow.keras.layers import Dropout \n",
    "from tensorflow.keras.layers import BatchNormalization"
   ]
  },
  {
   "cell_type": "code",
   "execution_count": 22,
   "id": "a9732da8",
   "metadata": {
    "ExecuteTime": {
     "end_time": "2022-06-20T09:12:58.544899Z",
     "start_time": "2022-06-20T09:12:58.267665Z"
    }
   },
   "outputs": [],
   "source": [
    "#模型構造\n",
    "model = Sequential()\n",
    "model.add(Dense(64, activation='relu', input_shape=(784,)))\n",
    "model.add(BatchNormalization()) #批次正規化\n",
    "\n",
    "model.add (Dense(64, activation='relu'))\n",
    "model.add(BatchNormalization())\n",
    "\n",
    "model.add(Dense(64, activation='relu'))\n",
    "model.add(BatchNormalization())\n",
    "model.add(Dropout(0.2)) #隨機丟棄5分之1神經元\n",
    "\n",
    "model.add(Dense(10, activation=\"softmax\"))"
   ]
  },
  {
   "cell_type": "code",
   "execution_count": null,
   "id": "e92048fc",
   "metadata": {},
   "outputs": [],
   "source": [
    "#編譯模型\n",
    "model.compile(loss = 'categorical crossentropy',\n",
    "                optimizer = 'adam',\n",
    "                metrics = ['accuracy'])"
   ]
  },
  {
   "cell_type": "code",
   "execution_count": 24,
   "id": "f8cf2cae",
   "metadata": {
    "ExecuteTime": {
     "end_time": "2022-06-20T09:14:09.575187Z",
     "start_time": "2022-06-20T09:12:58.581903Z"
    }
   },
   "outputs": [
    {
     "name": "stdout",
     "output_type": "stream",
     "text": [
      "Epoch 1/20\n",
      "469/469 [==============================] - 6s 8ms/step - loss: 0.3806 - accuracy: 0.8874 - val_loss: 0.1531 - val_accuracy: 0.9545\n",
      "Epoch 2/20\n",
      "469/469 [==============================] - 3s 7ms/step - loss: 0.1498 - accuracy: 0.9549 - val_loss: 0.1252 - val_accuracy: 0.9629\n",
      "Epoch 3/20\n",
      "469/469 [==============================] - 3s 7ms/step - loss: 0.1135 - accuracy: 0.9658 - val_loss: 0.1078 - val_accuracy: 0.9651\n",
      "Epoch 4/20\n",
      "469/469 [==============================] - 3s 7ms/step - loss: 0.0916 - accuracy: 0.9716 - val_loss: 0.0967 - val_accuracy: 0.9702\n",
      "Epoch 5/20\n",
      "469/469 [==============================] - 3s 7ms/step - loss: 0.0759 - accuracy: 0.9769 - val_loss: 0.0959 - val_accuracy: 0.9699\n",
      "Epoch 6/20\n",
      "469/469 [==============================] - 3s 7ms/step - loss: 0.0684 - accuracy: 0.9782 - val_loss: 0.0913 - val_accuracy: 0.9712\n",
      "Epoch 7/20\n",
      "469/469 [==============================] - 3s 7ms/step - loss: 0.0591 - accuracy: 0.9807 - val_loss: 0.0866 - val_accuracy: 0.9745\n",
      "Epoch 8/20\n",
      "469/469 [==============================] - 3s 7ms/step - loss: 0.0559 - accuracy: 0.9816 - val_loss: 0.0858 - val_accuracy: 0.9743\n",
      "Epoch 9/20\n",
      "469/469 [==============================] - 3s 7ms/step - loss: 0.0477 - accuracy: 0.9845 - val_loss: 0.0889 - val_accuracy: 0.9740\n",
      "Epoch 10/20\n",
      "469/469 [==============================] - 3s 7ms/step - loss: 0.0440 - accuracy: 0.9862 - val_loss: 0.0943 - val_accuracy: 0.9739\n",
      "Epoch 11/20\n",
      "469/469 [==============================] - 3s 7ms/step - loss: 0.0390 - accuracy: 0.9869 - val_loss: 0.0861 - val_accuracy: 0.9760\n",
      "Epoch 12/20\n",
      "469/469 [==============================] - 4s 8ms/step - loss: 0.0394 - accuracy: 0.9869 - val_loss: 0.0903 - val_accuracy: 0.9752\n",
      "Epoch 13/20\n",
      "469/469 [==============================] - 4s 8ms/step - loss: 0.0342 - accuracy: 0.9887 - val_loss: 0.0844 - val_accuracy: 0.9763\n",
      "Epoch 14/20\n",
      "469/469 [==============================] - 4s 8ms/step - loss: 0.0305 - accuracy: 0.9903 - val_loss: 0.0909 - val_accuracy: 0.9750\n",
      "Epoch 15/20\n",
      "469/469 [==============================] - 3s 7ms/step - loss: 0.0309 - accuracy: 0.9895 - val_loss: 0.0977 - val_accuracy: 0.9745\n",
      "Epoch 16/20\n",
      "469/469 [==============================] - 3s 7ms/step - loss: 0.0286 - accuracy: 0.9902 - val_loss: 0.0877 - val_accuracy: 0.9748\n",
      "Epoch 17/20\n",
      "469/469 [==============================] - 3s 7ms/step - loss: 0.0284 - accuracy: 0.9906 - val_loss: 0.0964 - val_accuracy: 0.9776\n",
      "Epoch 18/20\n",
      "469/469 [==============================] - 3s 7ms/step - loss: 0.0259 - accuracy: 0.9912 - val_loss: 0.0905 - val_accuracy: 0.9785\n",
      "Epoch 19/20\n",
      "469/469 [==============================] - 3s 7ms/step - loss: 0.0236 - accuracy: 0.9918 - val_loss: 0.0870 - val_accuracy: 0.9778\n",
      "Epoch 20/20\n",
      "469/469 [==============================] - 3s 7ms/step - loss: 0.0230 - accuracy: 0.9920 - val_loss: 0.0970 - val_accuracy: 0.9765\n"
     ]
    },
    {
     "data": {
      "text/plain": [
       "<keras.callbacks.History at 0x17e5b316d90>"
      ]
     },
     "execution_count": 24,
     "metadata": {},
     "output_type": "execute_result"
    }
   ],
   "source": [
    "model.fit(x_train, y_train , batch_size= 128 ,epochs=20, verbose=1,\n",
    "          validation_data=(x_test,y_test))"
   ]
  },
  {
   "cell_type": "markdown",
   "id": "49cc144f",
   "metadata": {},
   "source": [
    "# 迴歸"
   ]
  },
  {
   "cell_type": "code",
   "execution_count": 25,
   "id": "9aef69a2",
   "metadata": {
    "ExecuteTime": {
     "end_time": "2022-06-20T09:14:09.606167Z",
     "start_time": "2022-06-20T09:14:09.584182Z"
    }
   },
   "outputs": [],
   "source": [
    "import numpy as np \n",
    "from tensorflow.keras.datasets import boston_housing\n",
    "from tensorflow.keras.models import Sequential\n",
    "from tensorflow.keras.layers import Dense, Dropout\n",
    "from tensorflow.keras.layers import BatchNormalization"
   ]
  },
  {
   "cell_type": "code",
   "execution_count": 26,
   "id": "c9e11f75",
   "metadata": {
    "ExecuteTime": {
     "end_time": "2022-06-20T09:14:09.934487Z",
     "start_time": "2022-06-20T09:14:09.610166Z"
    }
   },
   "outputs": [
    {
     "data": {
      "text/plain": [
       "(404, 13)"
      ]
     },
     "execution_count": 26,
     "metadata": {},
     "output_type": "execute_result"
    }
   ],
   "source": [
    "(x_train, y_train),(x_test, y_test) = boston_housing.load_data()\n",
    "x_train.shape"
   ]
  },
  {
   "cell_type": "code",
   "execution_count": 27,
   "id": "724913d8",
   "metadata": {
    "ExecuteTime": {
     "end_time": "2022-06-20T09:14:09.950477Z",
     "start_time": "2022-06-20T09:14:09.938487Z"
    }
   },
   "outputs": [
    {
     "data": {
      "text/plain": [
       "(102, 13)"
      ]
     },
     "execution_count": 27,
     "metadata": {},
     "output_type": "execute_result"
    }
   ],
   "source": [
    "x_test.shape"
   ]
  },
  {
   "cell_type": "code",
   "execution_count": 28,
   "id": "38d54929",
   "metadata": {
    "ExecuteTime": {
     "end_time": "2022-06-20T09:14:10.070678Z",
     "start_time": "2022-06-20T09:14:09.954475Z"
    }
   },
   "outputs": [
    {
     "data": {
      "text/plain": [
       "array([  1.23247,   0.     ,   8.14   ,   0.     ,   0.538  ,   6.142  ,  91.7    ,   3.9769 ,   4.     , 307.     ,  21.     , 396.9    ,  18.72   ])"
      ]
     },
     "execution_count": 28,
     "metadata": {},
     "output_type": "execute_result"
    }
   ],
   "source": [
    "x_train[0] #共13個變量"
   ]
  },
  {
   "cell_type": "code",
   "execution_count": 29,
   "id": "6d79e395",
   "metadata": {
    "ExecuteTime": {
     "end_time": "2022-06-20T09:14:10.175456Z",
     "start_time": "2022-06-20T09:14:10.078069Z"
    }
   },
   "outputs": [
    {
     "data": {
      "text/plain": [
       "15.2"
      ]
     },
     "execution_count": 29,
     "metadata": {},
     "output_type": "execute_result"
    }
   ],
   "source": [
    "y_train[0] #正確答案"
   ]
  },
  {
   "cell_type": "code",
   "execution_count": 31,
   "id": "cad2223b",
   "metadata": {
    "ExecuteTime": {
     "end_time": "2022-06-20T09:14:10.983026Z",
     "start_time": "2022-06-20T09:14:10.790008Z"
    }
   },
   "outputs": [],
   "source": [
    "#回歸模型的神經網路的架構\n",
    "model = Sequential()\n",
    "model.add(Dense(32, input_dim= 13, activation = 'relu'))\n",
    "model.add(BatchNormalization())\n",
    "#32X16\n",
    "model.add(Dense(16,activation=\"relu\"))\n",
    "model.add(BatchNormalization())\n",
    "model.add(Dropout(0.2))\n",
    "#線性回歸\n",
    "model.add(Dense(1, activation=\"linear\"))"
   ]
  },
  {
   "cell_type": "code",
   "execution_count": 32,
   "id": "afd2d096",
   "metadata": {
    "ExecuteTime": {
     "end_time": "2022-06-20T09:16:07.659606Z",
     "start_time": "2022-06-20T09:15:59.069206Z"
    }
   },
   "outputs": [
    {
     "name": "stdout",
     "output_type": "stream",
     "text": [
      "Epoch 1/32\n",
      "51/51 [==============================] - 2s 8ms/step - loss: 567.7454 - val_loss: 671.3190\n",
      "Epoch 2/32\n",
      "51/51 [==============================] - 0s 4ms/step - loss: 546.0656 - val_loss: 624.5053\n",
      "Epoch 3/32\n",
      "51/51 [==============================] - 0s 5ms/step - loss: 522.6240 - val_loss: 582.8171\n",
      "Epoch 4/32\n",
      "51/51 [==============================] - 0s 4ms/step - loss: 497.0046 - val_loss: 555.1823\n",
      "Epoch 5/32\n",
      "51/51 [==============================] - 0s 4ms/step - loss: 465.2401 - val_loss: 509.1545\n",
      "Epoch 6/32\n",
      "51/51 [==============================] - 0s 4ms/step - loss: 432.9240 - val_loss: 504.3047\n",
      "Epoch 7/32\n",
      "51/51 [==============================] - 0s 4ms/step - loss: 391.1072 - val_loss: 485.0994\n",
      "Epoch 8/32\n",
      "51/51 [==============================] - 0s 4ms/step - loss: 345.3714 - val_loss: 419.1715\n",
      "Epoch 9/32\n",
      "51/51 [==============================] - 0s 4ms/step - loss: 302.7407 - val_loss: 381.6856\n",
      "Epoch 10/32\n",
      "51/51 [==============================] - 0s 4ms/step - loss: 260.0082 - val_loss: 377.6907\n",
      "Epoch 11/32\n",
      "51/51 [==============================] - 0s 3ms/step - loss: 214.8773 - val_loss: 327.4285\n",
      "Epoch 12/32\n",
      "51/51 [==============================] - 0s 4ms/step - loss: 180.6345 - val_loss: 177.6560\n",
      "Epoch 13/32\n",
      "51/51 [==============================] - 0s 4ms/step - loss: 153.1549 - val_loss: 173.6912\n",
      "Epoch 14/32\n",
      "51/51 [==============================] - 0s 4ms/step - loss: 119.8219 - val_loss: 142.9008\n",
      "Epoch 15/32\n",
      "51/51 [==============================] - 0s 4ms/step - loss: 97.7318 - val_loss: 91.1368\n",
      "Epoch 16/32\n",
      "51/51 [==============================] - 0s 4ms/step - loss: 82.0177 - val_loss: 55.5377\n",
      "Epoch 17/32\n",
      "51/51 [==============================] - 0s 4ms/step - loss: 61.3141 - val_loss: 48.2527\n",
      "Epoch 18/32\n",
      "51/51 [==============================] - 0s 4ms/step - loss: 51.7466 - val_loss: 35.5386\n",
      "Epoch 19/32\n",
      "51/51 [==============================] - 0s 4ms/step - loss: 45.7618 - val_loss: 30.0982\n",
      "Epoch 20/32\n",
      "51/51 [==============================] - 0s 4ms/step - loss: 39.3094 - val_loss: 38.3571\n",
      "Epoch 21/32\n",
      "51/51 [==============================] - 0s 4ms/step - loss: 32.1104 - val_loss: 26.8320\n",
      "Epoch 22/32\n",
      "51/51 [==============================] - 0s 4ms/step - loss: 38.8463 - val_loss: 69.1811\n",
      "Epoch 23/32\n",
      "51/51 [==============================] - 0s 4ms/step - loss: 36.6348 - val_loss: 85.0938\n",
      "Epoch 24/32\n",
      "51/51 [==============================] - 0s 4ms/step - loss: 36.0830 - val_loss: 38.5645\n",
      "Epoch 25/32\n",
      "51/51 [==============================] - 0s 4ms/step - loss: 33.7671 - val_loss: 28.5568\n",
      "Epoch 26/32\n",
      "51/51 [==============================] - 0s 4ms/step - loss: 33.1164 - val_loss: 33.8419\n",
      "Epoch 27/32\n",
      "51/51 [==============================] - 0s 4ms/step - loss: 30.7948 - val_loss: 24.4067\n",
      "Epoch 28/32\n",
      "51/51 [==============================] - 0s 5ms/step - loss: 32.6647 - val_loss: 35.0555\n",
      "Epoch 29/32\n",
      "51/51 [==============================] - 0s 4ms/step - loss: 29.2218 - val_loss: 28.6703\n",
      "Epoch 30/32\n",
      "51/51 [==============================] - 0s 4ms/step - loss: 32.6376 - val_loss: 32.8546\n",
      "Epoch 31/32\n",
      "51/51 [==============================] - 0s 4ms/step - loss: 32.4702 - val_loss: 36.2827\n",
      "Epoch 32/32\n",
      "51/51 [==============================] - 0s 4ms/step - loss: 30.1761 - val_loss: 30.0099\n"
     ]
    },
    {
     "data": {
      "text/plain": [
       "<keras.callbacks.History at 0x17e66b5cc10>"
      ]
     },
     "execution_count": 32,
     "metadata": {},
     "output_type": "execute_result"
    }
   ],
   "source": [
    "#編譯、訓練模型\n",
    "\n",
    "#MSE用於輸出為數值，而不是機率時用\n",
    "model.compile(loss='mean_squared_error' , optimizer = 'adam')#編譯\n",
    "\n",
    "model.fit(x_train, y_train,\n",
    "          batch_size=8 , epochs=32, verbose=1,\n",
    "         validation_data=(x_test,y_test))#訓練"
   ]
  },
  {
   "cell_type": "code",
   "execution_count": 33,
   "id": "b24ff22b",
   "metadata": {
    "ExecuteTime": {
     "end_time": "2022-06-20T09:18:08.540081Z",
     "start_time": "2022-06-20T09:18:08.168253Z"
    }
   },
   "outputs": [
    {
     "name": "stdout",
     "output_type": "stream",
     "text": [
      "WARNING:tensorflow:5 out of the last 5 calls to <function Model.make_predict_function.<locals>.predict_function at 0x0000017E6840AF70> triggered tf.function retracing. Tracing is expensive and the excessive number of tracings could be due to (1) creating @tf.function repeatedly in a loop, (2) passing tensors with different shapes, (3) passing Python objects instead of tensors. For (1), please define your @tf.function outside of the loop. For (2), @tf.function has reduce_retracing=True option that can avoid unnecessary retracing. For (3), please refer to https://www.tensorflow.org/guide/function#controlling_retracing and https://www.tensorflow.org/api_docs/python/tf/function for  more details.\n",
      "1/1 [==============================] - 0s 288ms/step\n"
     ]
    },
    {
     "data": {
      "text/plain": [
       "array([[16.008495]], dtype=float32)"
      ]
     },
     "execution_count": 33,
     "metadata": {},
     "output_type": "execute_result"
    }
   ],
   "source": [
    "model.predict(np.reshape(x_test[42],[1,13]))"
   ]
  },
  {
   "cell_type": "markdown",
   "id": "49ba51de",
   "metadata": {},
   "source": [
    "# TensorBoard callback"
   ]
  },
  {
   "cell_type": "code",
   "execution_count": 35,
   "id": "44cf0c5e",
   "metadata": {
    "ExecuteTime": {
     "end_time": "2022-06-20T09:22:04.369817Z",
     "start_time": "2022-06-20T09:22:04.364821Z"
    }
   },
   "outputs": [],
   "source": [
    "from tensorflow.keras.callbacks import TensorBoard"
   ]
  },
  {
   "cell_type": "code",
   "execution_count": 36,
   "id": "2dd9bb0b",
   "metadata": {
    "ExecuteTime": {
     "end_time": "2022-06-20T09:25:35.435844Z",
     "start_time": "2022-06-20T09:25:35.426850Z"
    }
   },
   "outputs": [],
   "source": [
    "tensorboard = TensorBoard(log_dir='D:\\桌面\\data science\\Deep learning\\Ch05\\.ipynb_checkpoints')"
   ]
  },
  {
   "cell_type": "code",
   "execution_count": 49,
   "id": "e9f85948",
   "metadata": {
    "ExecuteTime": {
     "end_time": "2022-06-20T12:13:39.129594Z",
     "start_time": "2022-06-20T12:13:37.440211Z"
    }
   },
   "outputs": [],
   "source": [
    "#模型構造\n",
    "model = Sequential()\n",
    "model.add(Dense(64, activation='relu', input_shape=(784,)))\n",
    "model.add(BatchNormalization()) #批次正規化\n",
    "\n",
    "model.add (Dense(64, activation='relu'))\n",
    "model.add(BatchNormalization())\n",
    "\n",
    "model.add(Dense(64, activation='relu'))\n",
    "model.add(BatchNormalization())\n",
    "model.add(Dropout(0.2)) #隨機丟棄5分之1神經元\n",
    "\n",
    "model.add(Dense(10, activation=\"softmax\"))\n",
    "#編譯模型\n",
    "model.compile(loss = 'categorical crossentropy',\n",
    "              optimizer = 'adam',\n",
    "              metrics = ['accuracy'])"
   ]
  },
  {
   "cell_type": "code",
   "execution_count": 51,
   "id": "905e666c",
   "metadata": {
    "ExecuteTime": {
     "end_time": "2022-06-20T12:14:08.046888Z",
     "start_time": "2022-06-20T12:14:04.605169Z"
    }
   },
   "outputs": [
    {
     "name": "stdout",
     "output_type": "stream",
     "text": [
      "Epoch 1/20\n"
     ]
    },
    {
     "ename": "ValueError",
     "evalue": "in user code:\n\n    File \"D:\\Anaconda\\lib\\site-packages\\keras\\engine\\training.py\", line 1051, in train_function  *\n        return step_function(self, iterator)\n    File \"D:\\Anaconda\\lib\\site-packages\\keras\\engine\\training.py\", line 1040, in step_function  **\n        outputs = model.distribute_strategy.run(run_step, args=(data,))\n    File \"D:\\Anaconda\\lib\\site-packages\\keras\\engine\\training.py\", line 1030, in run_step  **\n        outputs = model.train_step(data)\n    File \"D:\\Anaconda\\lib\\site-packages\\keras\\engine\\training.py\", line 889, in train_step\n        y_pred = self(x, training=True)\n    File \"D:\\Anaconda\\lib\\site-packages\\keras\\utils\\traceback_utils.py\", line 67, in error_handler\n        raise e.with_traceback(filtered_tb) from None\n    File \"D:\\Anaconda\\lib\\site-packages\\keras\\engine\\input_spec.py\", line 264, in assert_input_compatibility\n        raise ValueError(f'Input {input_index} of layer \"{layer_name}\" is '\n\n    ValueError: Input 0 of layer \"sequential_10\" is incompatible with the layer: expected shape=(None, 784), found shape=(None, 13)\n",
     "output_type": "error",
     "traceback": [
      "\u001b[1;31m---------------------------------------------------------------------------\u001b[0m",
      "\u001b[1;31mValueError\u001b[0m                                Traceback (most recent call last)",
      "\u001b[1;32m~\\AppData\\Local\\Temp/ipykernel_1304/1183244764.py\u001b[0m in \u001b[0;36m<module>\u001b[1;34m\u001b[0m\n\u001b[1;32m----> 1\u001b[1;33m model.fit(x_train, y_train,\n\u001b[0m\u001b[0;32m      2\u001b[0m         \u001b[0mbatch_size\u001b[0m\u001b[1;33m=\u001b[0m\u001b[1;36m128\u001b[0m\u001b[1;33m,\u001b[0m \u001b[0mepochs\u001b[0m\u001b[1;33m=\u001b[0m\u001b[1;36m20\u001b[0m\u001b[1;33m,\u001b[0m\u001b[1;33m\u001b[0m\u001b[1;33m\u001b[0m\u001b[0m\n\u001b[0;32m      3\u001b[0m           \u001b[0mverbose\u001b[0m\u001b[1;33m=\u001b[0m\u001b[1;36m1\u001b[0m\u001b[1;33m,\u001b[0m\u001b[1;33m\u001b[0m\u001b[1;33m\u001b[0m\u001b[0m\n\u001b[0;32m      4\u001b[0m           \u001b[0mvalidation_data\u001b[0m\u001b[1;33m=\u001b[0m\u001b[1;33m(\u001b[0m\u001b[0mx_train\u001b[0m\u001b[1;33m,\u001b[0m \u001b[0my_train\u001b[0m\u001b[1;33m)\u001b[0m\u001b[1;33m,\u001b[0m\u001b[1;33m\u001b[0m\u001b[1;33m\u001b[0m\u001b[0m\n\u001b[0;32m      5\u001b[0m           callbacks=[tensorboard])\n",
      "\u001b[1;32mD:\\Anaconda\\lib\\site-packages\\keras\\utils\\traceback_utils.py\u001b[0m in \u001b[0;36merror_handler\u001b[1;34m(*args, **kwargs)\u001b[0m\n\u001b[0;32m     65\u001b[0m     \u001b[1;32mexcept\u001b[0m \u001b[0mException\u001b[0m \u001b[1;32mas\u001b[0m \u001b[0me\u001b[0m\u001b[1;33m:\u001b[0m  \u001b[1;31m# pylint: disable=broad-except\u001b[0m\u001b[1;33m\u001b[0m\u001b[1;33m\u001b[0m\u001b[0m\n\u001b[0;32m     66\u001b[0m       \u001b[0mfiltered_tb\u001b[0m \u001b[1;33m=\u001b[0m \u001b[0m_process_traceback_frames\u001b[0m\u001b[1;33m(\u001b[0m\u001b[0me\u001b[0m\u001b[1;33m.\u001b[0m\u001b[0m__traceback__\u001b[0m\u001b[1;33m)\u001b[0m\u001b[1;33m\u001b[0m\u001b[1;33m\u001b[0m\u001b[0m\n\u001b[1;32m---> 67\u001b[1;33m       \u001b[1;32mraise\u001b[0m \u001b[0me\u001b[0m\u001b[1;33m.\u001b[0m\u001b[0mwith_traceback\u001b[0m\u001b[1;33m(\u001b[0m\u001b[0mfiltered_tb\u001b[0m\u001b[1;33m)\u001b[0m \u001b[1;32mfrom\u001b[0m \u001b[1;32mNone\u001b[0m\u001b[1;33m\u001b[0m\u001b[1;33m\u001b[0m\u001b[0m\n\u001b[0m\u001b[0;32m     68\u001b[0m     \u001b[1;32mfinally\u001b[0m\u001b[1;33m:\u001b[0m\u001b[1;33m\u001b[0m\u001b[1;33m\u001b[0m\u001b[0m\n\u001b[0;32m     69\u001b[0m       \u001b[1;32mdel\u001b[0m \u001b[0mfiltered_tb\u001b[0m\u001b[1;33m\u001b[0m\u001b[1;33m\u001b[0m\u001b[0m\n",
      "\u001b[1;32mD:\\Anaconda\\lib\\site-packages\\keras\\engine\\training.py\u001b[0m in \u001b[0;36mtf__train_function\u001b[1;34m(iterator)\u001b[0m\n\u001b[0;32m     13\u001b[0m                 \u001b[1;32mtry\u001b[0m\u001b[1;33m:\u001b[0m\u001b[1;33m\u001b[0m\u001b[1;33m\u001b[0m\u001b[0m\n\u001b[0;32m     14\u001b[0m                     \u001b[0mdo_return\u001b[0m \u001b[1;33m=\u001b[0m \u001b[1;32mTrue\u001b[0m\u001b[1;33m\u001b[0m\u001b[1;33m\u001b[0m\u001b[0m\n\u001b[1;32m---> 15\u001b[1;33m                     \u001b[0mretval_\u001b[0m \u001b[1;33m=\u001b[0m \u001b[0mag__\u001b[0m\u001b[1;33m.\u001b[0m\u001b[0mconverted_call\u001b[0m\u001b[1;33m(\u001b[0m\u001b[0mag__\u001b[0m\u001b[1;33m.\u001b[0m\u001b[0mld\u001b[0m\u001b[1;33m(\u001b[0m\u001b[0mstep_function\u001b[0m\u001b[1;33m)\u001b[0m\u001b[1;33m,\u001b[0m \u001b[1;33m(\u001b[0m\u001b[0mag__\u001b[0m\u001b[1;33m.\u001b[0m\u001b[0mld\u001b[0m\u001b[1;33m(\u001b[0m\u001b[0mself\u001b[0m\u001b[1;33m)\u001b[0m\u001b[1;33m,\u001b[0m \u001b[0mag__\u001b[0m\u001b[1;33m.\u001b[0m\u001b[0mld\u001b[0m\u001b[1;33m(\u001b[0m\u001b[0miterator\u001b[0m\u001b[1;33m)\u001b[0m\u001b[1;33m)\u001b[0m\u001b[1;33m,\u001b[0m \u001b[1;32mNone\u001b[0m\u001b[1;33m,\u001b[0m \u001b[0mfscope\u001b[0m\u001b[1;33m)\u001b[0m\u001b[1;33m\u001b[0m\u001b[1;33m\u001b[0m\u001b[0m\n\u001b[0m\u001b[0;32m     16\u001b[0m                 \u001b[1;32mexcept\u001b[0m\u001b[1;33m:\u001b[0m\u001b[1;33m\u001b[0m\u001b[1;33m\u001b[0m\u001b[0m\n\u001b[0;32m     17\u001b[0m                     \u001b[0mdo_return\u001b[0m \u001b[1;33m=\u001b[0m \u001b[1;32mFalse\u001b[0m\u001b[1;33m\u001b[0m\u001b[1;33m\u001b[0m\u001b[0m\n",
      "\u001b[1;31mValueError\u001b[0m: in user code:\n\n    File \"D:\\Anaconda\\lib\\site-packages\\keras\\engine\\training.py\", line 1051, in train_function  *\n        return step_function(self, iterator)\n    File \"D:\\Anaconda\\lib\\site-packages\\keras\\engine\\training.py\", line 1040, in step_function  **\n        outputs = model.distribute_strategy.run(run_step, args=(data,))\n    File \"D:\\Anaconda\\lib\\site-packages\\keras\\engine\\training.py\", line 1030, in run_step  **\n        outputs = model.train_step(data)\n    File \"D:\\Anaconda\\lib\\site-packages\\keras\\engine\\training.py\", line 889, in train_step\n        y_pred = self(x, training=True)\n    File \"D:\\Anaconda\\lib\\site-packages\\keras\\utils\\traceback_utils.py\", line 67, in error_handler\n        raise e.with_traceback(filtered_tb) from None\n    File \"D:\\Anaconda\\lib\\site-packages\\keras\\engine\\input_spec.py\", line 264, in assert_input_compatibility\n        raise ValueError(f'Input {input_index} of layer \"{layer_name}\" is '\n\n    ValueError: Input 0 of layer \"sequential_10\" is incompatible with the layer: expected shape=(None, 784), found shape=(None, 13)\n"
     ]
    }
   ],
   "source": [
    "model.fit(x_train, y_train,\n",
    "        batch_size=128, epochs=20,\n",
    "          verbose=1,\n",
    "          validation_data=(x_, y_train),\n",
    "          callbacks=[tensorboard])"
   ]
  },
  {
   "cell_type": "code",
   "execution_count": 44,
   "id": "0577ff16",
   "metadata": {
    "ExecuteTime": {
     "end_time": "2022-06-20T09:41:41.241474Z",
     "start_time": "2022-06-20T09:41:41.206501Z"
    }
   },
   "outputs": [
    {
     "name": "stdout",
     "output_type": "stream",
     "text": [
      "The tensorboard extension is already loaded. To reload it, use:\n",
      "  %reload_ext tensorboard\n"
     ]
    },
    {
     "data": {
      "text/plain": [
       "Reusing TensorBoard on port 6006 (pid 4248), started 0:09:25 ago. (Use '!kill 4248' to kill it.)"
      ]
     },
     "metadata": {},
     "output_type": "display_data"
    },
    {
     "data": {
      "text/html": [
       "\n",
       "      <iframe id=\"tensorboard-frame-f56342b848cd013a\" width=\"100%\" height=\"800\" frameborder=\"0\">\n",
       "      </iframe>\n",
       "      <script>\n",
       "        (function() {\n",
       "          const frame = document.getElementById(\"tensorboard-frame-f56342b848cd013a\");\n",
       "          const url = new URL(\"/\", window.location);\n",
       "          const port = 6006;\n",
       "          if (port) {\n",
       "            url.port = port;\n",
       "          }\n",
       "          frame.src = url;\n",
       "        })();\n",
       "      </script>\n",
       "    "
      ],
      "text/plain": [
       "<IPython.core.display.HTML object>"
      ]
     },
     "metadata": {},
     "output_type": "display_data"
    }
   ],
   "source": [
    "#www.tensorflow.org/tensorboard/tensorboard_profiling_keras\n",
    "%load_ext tensorboard\n",
    "%tensorboard --logdir 'D:\\桌面\\data science\\Deep learning\\Ch05\\.ipynb_checkpoints'"
   ]
  },
  {
   "cell_type": "code",
   "execution_count": null,
   "id": "6fc7e6da",
   "metadata": {},
   "outputs": [],
   "source": []
  }
 ],
 "metadata": {
  "kernelspec": {
   "display_name": "Python 3 (ipykernel)",
   "language": "python",
   "name": "python3"
  },
  "language_info": {
   "codemirror_mode": {
    "name": "ipython",
    "version": 3
   },
   "file_extension": ".py",
   "mimetype": "text/x-python",
   "name": "python",
   "nbconvert_exporter": "python",
   "pygments_lexer": "ipython3",
   "version": "3.9.7"
  },
  "toc": {
   "base_numbering": 1,
   "nav_menu": {},
   "number_sections": true,
   "sideBar": true,
   "skip_h1_title": false,
   "title_cell": "Table of Contents",
   "title_sidebar": "Contents",
   "toc_cell": false,
   "toc_position": {
    "height": "calc(100% - 180px)",
    "left": "10px",
    "top": "150px",
    "width": "218.55px"
   },
   "toc_section_display": true,
   "toc_window_display": true
  },
  "varInspector": {
   "cols": {
    "lenName": 16,
    "lenType": 16,
    "lenVar": 40
   },
   "kernels_config": {
    "python": {
     "delete_cmd_postfix": "",
     "delete_cmd_prefix": "del ",
     "library": "var_list.py",
     "varRefreshCmd": "print(var_dic_list())"
    },
    "r": {
     "delete_cmd_postfix": ") ",
     "delete_cmd_prefix": "rm(",
     "library": "var_list.r",
     "varRefreshCmd": "cat(var_dic_list()) "
    }
   },
   "types_to_exclude": [
    "module",
    "function",
    "builtin_function_or_method",
    "instance",
    "_Feature"
   ],
   "window_display": false
  }
 },
 "nbformat": 4,
 "nbformat_minor": 5
}
